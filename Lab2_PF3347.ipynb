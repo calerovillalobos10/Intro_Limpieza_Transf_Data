{
  "nbformat": 4,
  "nbformat_minor": 0,
  "metadata": {
    "colab": {
      "provenance": [],
      "include_colab_link": true
    },
    "kernelspec": {
      "name": "python3",
      "display_name": "Python 3"
    },
    "language_info": {
      "name": "python"
    }
  },
  "cells": [
    {
      "cell_type": "markdown",
      "metadata": {
        "id": "view-in-github",
        "colab_type": "text"
      },
      "source": [
        "<a href=\"https://colab.research.google.com/github/calerovillalobos10/Intro_Limpieza_Transf_Data/blob/main/Lab2_PF3347.ipynb\" target=\"_parent\"><img src=\"https://colab.research.google.com/assets/colab-badge.svg\" alt=\"Open In Colab\"/></a>"
      ]
    },
    {
      "cell_type": "markdown",
      "source": [
        "# Lab 2 Limpieza y Transformación de Datos"
      ],
      "metadata": {
        "id": "SoVuDLtrwD84"
      }
    },
    {
      "cell_type": "markdown",
      "source": [
        "## Estudiantes\n",
        "\n",
        "*   Bryan Thomas Calero Villalobos\n",
        "*   Daniela Montero Parkinson\n",
        "*   Christopher Zúñiga Cárdenas"
      ],
      "metadata": {
        "id": "c5k1uDvCwNC9"
      }
    },
    {
      "cell_type": "markdown",
      "source": [
        "# Uso práctico"
      ],
      "metadata": {
        "id": "4L04dn-8wXYH"
      }
    },
    {
      "cell_type": "markdown",
      "source": [
        "## Extracción de datos"
      ],
      "metadata": {
        "id": "NlZnlBFzwsdn"
      }
    },
    {
      "cell_type": "markdown",
      "source": [
        "Se ingresa a la página de [OpenQA](https://openaq.org/) para consumir el API que nos da la documentación, en este caso se utilizará para el trabajo el API V3. En la documentación del api se indica registrarse en [Registro](https://explore.openaq.org/register) e ir al apartado de *cuenta*, con el fin de capturar el API KEY necesario para consumir el API."
      ],
      "metadata": {
        "id": "lOxXXWsgw4V3"
      }
    },
    {
      "cell_type": "markdown",
      "source": [
        "Como primer paso se instalan las librerías necesarias para poder consumir el API mencionado y capturar las variables de entorno"
      ],
      "metadata": {
        "id": "UmwPnGEy_VgK"
      }
    },
    {
      "cell_type": "code",
      "source": [
        "# Instalar las librerías necesarias\n",
        "!pip3 install requests\n",
        "!pip3 install python-dotenv"
      ],
      "metadata": {
        "colab": {
          "base_uri": "https://localhost:8080/"
        },
        "id": "kMaRrVAUw4jg",
        "outputId": "85de4d8f-c2ca-428a-8b41-ea3d080e9c6b"
      },
      "execution_count": 203,
      "outputs": [
        {
          "output_type": "stream",
          "name": "stdout",
          "text": [
            "Requirement already satisfied: requests in /usr/local/lib/python3.10/dist-packages (2.32.3)\n",
            "Requirement already satisfied: charset-normalizer<4,>=2 in /usr/local/lib/python3.10/dist-packages (from requests) (3.3.2)\n",
            "Requirement already satisfied: idna<4,>=2.5 in /usr/local/lib/python3.10/dist-packages (from requests) (3.10)\n",
            "Requirement already satisfied: urllib3<3,>=1.21.1 in /usr/local/lib/python3.10/dist-packages (from requests) (2.0.7)\n",
            "Requirement already satisfied: certifi>=2017.4.17 in /usr/local/lib/python3.10/dist-packages (from requests) (2024.8.30)\n",
            "Requirement already satisfied: python-dotenv in /usr/local/lib/python3.10/dist-packages (1.0.1)\n"
          ]
        }
      ]
    },
    {
      "cell_type": "markdown",
      "source": [
        "Se importan las librerías para poder utilizarlas en los métodos definidos"
      ],
      "metadata": {
        "id": "oK9IJQSt-NAs"
      }
    },
    {
      "cell_type": "code",
      "source": [
        "import requests\n",
        "import os\n",
        "from dotenv import load_dotenv\n",
        "from requests.adapters import HTTPAdapter\n",
        "from requests.packages.urllib3.util.retry import Retry\n",
        "from urllib.parse import urlencode\n",
        "from datetime import datetime"
      ],
      "metadata": {
        "id": "bI3-qosq-UNG"
      },
      "execution_count": 204,
      "outputs": []
    },
    {
      "cell_type": "markdown",
      "source": [
        "Se descargar el archivo del .env que se encuentra en drive"
      ],
      "metadata": {
        "id": "CnL00-jlOKsv"
      }
    },
    {
      "cell_type": "code",
      "source": [
        "!wget --no-check-certificate 'https://drive.google.com/uc?export=download&id=1JrTQmCwUWuru9BJFCwuG25_aIT1uN4XR' -O .env"
      ],
      "metadata": {
        "id": "5LjPNqaNOR_a",
        "colab": {
          "base_uri": "https://localhost:8080/"
        },
        "outputId": "bb5d08d2-cc90-41a1-a13a-74dd737a5ab0"
      },
      "execution_count": 205,
      "outputs": [
        {
          "output_type": "stream",
          "name": "stdout",
          "text": [
            "--2024-09-22 01:49:38--  https://drive.google.com/uc?export=download&id=1JrTQmCwUWuru9BJFCwuG25_aIT1uN4XR\n",
            "Resolving drive.google.com (drive.google.com)... 173.194.217.101, 173.194.217.138, 173.194.217.113, ...\n",
            "Connecting to drive.google.com (drive.google.com)|173.194.217.101|:443... connected.\n",
            "HTTP request sent, awaiting response... 303 See Other\n",
            "Location: https://drive.usercontent.google.com/download?id=1JrTQmCwUWuru9BJFCwuG25_aIT1uN4XR&export=download [following]\n",
            "--2024-09-22 01:49:38--  https://drive.usercontent.google.com/download?id=1JrTQmCwUWuru9BJFCwuG25_aIT1uN4XR&export=download\n",
            "Resolving drive.usercontent.google.com (drive.usercontent.google.com)... 172.217.204.132, 2607:f8b0:400c:c15::84\n",
            "Connecting to drive.usercontent.google.com (drive.usercontent.google.com)|172.217.204.132|:443... connected.\n",
            "HTTP request sent, awaiting response... 200 OK\n",
            "Length: 79 [application/octet-stream]\n",
            "Saving to: ‘.env’\n",
            "\n",
            ".env                100%[===================>]      79  --.-KB/s    in 0s      \n",
            "\n",
            "2024-09-22 01:49:39 (3.86 MB/s) - ‘.env’ saved [79/79]\n",
            "\n"
          ]
        }
      ]
    },
    {
      "cell_type": "markdown",
      "source": [
        "Obtener el api key para consumir la información del sitio Open AQ"
      ],
      "metadata": {
        "id": "_7u78KRvSM_q"
      }
    },
    {
      "cell_type": "code",
      "source": [
        "load_dotenv('.env') # Cargar el archivo .env descargado\n",
        "API_KEY = os.getenv('KEY_OpenAQ') # Obtener el API KEY de la variable de entorno"
      ],
      "metadata": {
        "id": "HSJn2eUrSNMD"
      },
      "execution_count": 206,
      "outputs": []
    },
    {
      "cell_type": "markdown",
      "source": [
        "Se inicializa una variable con la url a consumir"
      ],
      "metadata": {
        "id": "YgYLZEgqTC54"
      }
    },
    {
      "cell_type": "code",
      "source": [
        "api_url = f'https://api.openaq.org/v2/measurements'"
      ],
      "metadata": {
        "id": "ee-IPULhTGsU"
      },
      "execution_count": 207,
      "outputs": []
    },
    {
      "cell_type": "markdown",
      "source": [
        "Se definen los parámetros que se enviarán al enpoint y mediante este método se construye la url final a consumir"
      ],
      "metadata": {
        "id": "PA-u_e1PW0mr"
      }
    },
    {
      "cell_type": "code",
      "source": [
        "# Construye la URL con los parámetros necesarios\n",
        "def build_url(country, start_date, end_date, page, limit):\n",
        "  # Parámetros para la solicitud: país, fechas y página actual\n",
        "  params = {\n",
        "    'date_from': start_date,\n",
        "    'date_to': end_date,\n",
        "    'limit': limit,  # Ajusta el límite según lo necesario\n",
        "    'page': page,\n",
        "    'country': country,\n",
        "    'sort': 'desc',\n",
        "    'order_by': 'datetime'\n",
        "  }\n",
        "\n",
        "  return f\"{api_url}?{urlencode(params)}\""
      ],
      "metadata": {
        "id": "F4rR0E6OVnom"
      },
      "execution_count": 208,
      "outputs": []
    },
    {
      "cell_type": "markdown",
      "source": [
        "Este método se implementó para solucionar el problema Request Time-out que arroja el api, dado a la cantidad de información que trae. Se funcionalidad es crear una sesión HTTP que aplica reintentos automáticos cuando se producen errores temporales o de conexión en solicitudes GET"
      ],
      "metadata": {
        "id": "VMLZqvFQGJuM"
      }
    },
    {
      "cell_type": "code",
      "source": [
        "# Método para crear la estrategia de reintentos\n",
        "def create_retry_session(max_retries):\n",
        "    retry_strategy = Retry(\n",
        "        total=max_retries,  # Número máximo de reintentos\n",
        "        status_forcelist=[408, 500, 502, 503, 504],  # Errores a los que se aplicarán los reintentos\n",
        "        allowed_methods=[\"GET\"],  # Solo reintentar en solicitudes GET\n",
        "        backoff_factor=1  # Tiempo de espera entre reintentos\n",
        "    )\n",
        "    adapter = HTTPAdapter(max_retries=retry_strategy)\n",
        "\n",
        "    # Crear una sesión de requests con el adaptador de reintentos\n",
        "    http = requests.Session()\n",
        "    http.mount(\"https://\", adapter)\n",
        "\n",
        "    return http  # Devolver la sesión con la estrategia de reintentos"
      ],
      "metadata": {
        "id": "IzqV54uMGJCE"
      },
      "execution_count": 209,
      "outputs": []
    },
    {
      "cell_type": "markdown",
      "source": [
        "El siguiente método consume el API utilizando requests, obteniendo los datos de los países que proporciona la web. Este retorna una lista de diccionarios sobre los países con el método .json() utilizado en la línea data = response.json()"
      ],
      "metadata": {
        "id": "j1Nr--Tw-ZmM"
      }
    },
    {
      "cell_type": "code",
      "source": [
        "# Obtiene los datos de cada país\n",
        "def fetch_country_data(country, start_date, end_date, limit, max_retries=1):\n",
        "  all_data = [] # Lista para almacenar los datos obtenidos de todas las páginas\n",
        "\n",
        "  try:\n",
        "\n",
        "    page = 1  # Se inicia en la primera página\n",
        "    has_more_data = True  # Control para el bucle\n",
        "    headers = {\"accept\": \"application/json\", \"X-API-Key\": API_KEY} # Encabezados de la solicitud, incluyendo la API Key\n",
        "\n",
        "    # Usar el nuevo método para crear la sesión con reintentos\n",
        "    http = create_retry_session(max_retries)\n",
        "\n",
        "    # Bucle para hacer solicitudes mientras haya más datos disponibles\n",
        "    while has_more_data:\n",
        "      # Crear la URL con los parámetros del país, fechas, página y límite\n",
        "      url = build_url(country, start_date, end_date, page, limit)\n",
        "\n",
        "      response = http.get(url, headers=headers) # Realiza la solicitud HTTP al API\n",
        "      response.raise_for_status() # Lanza un error si la respuesta no es exitosa\n",
        "\n",
        "      data = response.json().get('results', [])\n",
        "      all_data.extend(data)  # Añade los datos de la página actual a la lista general\n",
        "\n",
        "      if len(data) < limit:\n",
        "        print(f\"{country} No más datos\")\n",
        "        has_more_data = False # Si no hay más datos, se finaliza el bucle\n",
        "      else:\n",
        "        page += 1  # Si hay más datos, avanzar a la siguiente página\n",
        "\n",
        "  except requests.RequestException as e:\n",
        "    print(f\"{country} No más datos\")\n",
        "\n",
        "  return all_data"
      ],
      "metadata": {
        "id": "KNHEv-b6Ob77"
      },
      "execution_count": 210,
      "outputs": []
    },
    {
      "cell_type": "markdown",
      "source": [
        "La siguiente función obtiene datos de varios países en un rango de fechas específico y con un límite de resultados por país. Recorre una lista de países, llama a la función fetch_country_data para cada uno, y si se obtienen datos, los almacena en una lista que finalmente retorna."
      ],
      "metadata": {
        "id": "qXJmLj16C0Hc"
      }
    },
    {
      "cell_type": "code",
      "source": [
        "# Función para obtener los datos de varios países\n",
        "def get_countries_data(countries, start_date, end_date, limit):\n",
        "\n",
        "  all_data = [] # Lista para almacenar todos los datos obtenidos\n",
        "\n",
        "  # Ciclo sobre la lista de países\n",
        "  for country in countries:\n",
        "\n",
        "    print(f\"Obteniendo datos para {country}...\")\n",
        "    # Llamada a una función que obtiene los datos del país en un periodo específico\n",
        "    data = fetch_country_data(country, start_date, end_date, limit)\n",
        "\n",
        "    if any(data):\n",
        "      all_data.extend(data) # si existen datos se añaden los resultados a la lista general\n",
        "\n",
        "  return all_data"
      ],
      "metadata": {
        "id": "xdgQx0Ozd1EC"
      },
      "execution_count": 211,
      "outputs": []
    },
    {
      "cell_type": "markdown",
      "source": [
        "Parámetros para definir los datos que se quieren obtener del api de open qa"
      ],
      "metadata": {
        "id": "r2W6pU7mEYV9"
      }
    },
    {
      "cell_type": "code",
      "source": [
        "# Parámetros para el enpoint\n",
        "countries = ['CR', 'BE', 'DE', 'PE', 'AR', 'US']  # Costa Rica, Belgica, Alemania , Peru, Argentina, Estados Unidos\n",
        "\n",
        "start_date = '2014-01-01T00:00:00Z'\n",
        "end_date = datetime.utcnow().isoformat() + \"Z\"\n",
        "\n",
        "data = get_countries_data(countries, start_date, end_date, 15000)"
      ],
      "metadata": {
        "colab": {
          "base_uri": "https://localhost:8080/"
        },
        "id": "KAD28hF6ZSA6",
        "outputId": "04668ee7-4431-47b6-f474-561e8d857e93"
      },
      "execution_count": 212,
      "outputs": [
        {
          "output_type": "stream",
          "name": "stdout",
          "text": [
            "Obteniendo datos para CR...\n",
            "CR No más datos\n",
            "Obteniendo datos para BE...\n",
            "BE No más datos\n",
            "Obteniendo datos para DE...\n",
            "DE No más datos\n",
            "Obteniendo datos para PE...\n",
            "PE No más datos\n",
            "Obteniendo datos para AR...\n",
            "AR No más datos\n",
            "Obteniendo datos para US...\n",
            "US No más datos\n"
          ]
        }
      ]
    },
    {
      "cell_type": "markdown",
      "source": [
        "## Análisis EDA Exploratorio"
      ],
      "metadata": {
        "id": "uwiZ_pSVSB9F"
      }
    },
    {
      "cell_type": "markdown",
      "source": [
        "### Descripción del conjunto de datos\n",
        "El conjunto de datos recuperados desde el API contiene casi 500,000  filas y 15 columnas. En esta información recuperada se identificó algunos parámetros de interés:\n",
        "* locationId: y location los cuales son parámetros que funcionan para identificar ubicaciones.\n",
        "* parameter: el cuál es un indicador para los tipos de parámetros medidos (como pm25, que es un contaminante).\n",
        "* value: el cual es el parámetro que trae valores de las mediciones.\n",
        "* unit: Son las unidades de medición (microgramos por metro cúbico, µg/m³).\n",
        "* coordinates.latitude y coordinates.longitude: los cuales son parámetros para la ubicación geográfica de las mediciones.\n",
        "\n",
        "\n"
      ],
      "metadata": {
        "id": "sawpWm2YSHL9"
      }
    },
    {
      "cell_type": "markdown",
      "source": [
        "### Columnas con valores nulos o problemáticos\n",
        "* city,  isAnalysis y isMobile: son columnas que vienen completamente vacías, dado a los países que se seleccionaron para la revisión. Estas columnas podrían eliminarse si no son útiles.\n",
        "* sensorType y entity: en todas las filas vienen con un mismo.\n",
        "* value: tiene valores problemáticos como -999.0, lo cual probablemente represente datos faltantes. Estos deben corregirse o imputarse adecuadamente.\n",
        "\n"
      ],
      "metadata": {
        "id": "ggX8dOtmxwwW"
      }
    },
    {
      "cell_type": "markdown",
      "source": [
        "### Detección de valores atípicos en las mediciones\n",
        "Dentro de la columna value se detectaron valores atípicos (outliers) lo cual indica la presencia de valores “extremos” lo que podría afectar en el análisis de los datos.\n",
        "\n"
      ],
      "metadata": {
        "id": "beyvJZb9x2RQ"
      }
    },
    {
      "cell_type": "markdown",
      "source": [
        "### Análisis de los parámetros medidos (parameter)\n",
        "Se debe analizar la distribución de los diferentes parámetros medidos, como PM25, NO2, CO, entre otros. Con el fin de entender mejor qué contaminantes se monitorean con mayor frecuencia.\n"
      ],
      "metadata": {
        "id": "pcX0ZBu1x4LC"
      }
    },
    {
      "cell_type": "markdown",
      "source": [
        "#### Preguntas clave:\n",
        "* ¿Qué parámetros de calidad del aire son los más comunes en el conjunto de datos?\n",
        "* ¿Cómo varían los valores de estos parámetros en diferentes ubicaciones?"
      ],
      "metadata": {
        "id": "_Mk8xS4px5yM"
      }
    },
    {
      "cell_type": "markdown",
      "source": [
        "## Limpieza de datos y Transformación"
      ],
      "metadata": {
        "id": "wdbGPjNowxwK"
      }
    },
    {
      "cell_type": "markdown",
      "source": [
        "Se importan librerías necesarias y se asigna la data a otra variable para manipular sin tocar los datos originales"
      ],
      "metadata": {
        "id": "TyFySX-IK8-R"
      }
    },
    {
      "cell_type": "code",
      "source": [
        "import pandas as pd\n",
        "from pandas import json_normalize\n",
        "\n",
        "# Normalizar los datos\n",
        "df_results = data"
      ],
      "metadata": {
        "id": "neaPNvj4KzKb"
      },
      "execution_count": 362,
      "outputs": []
    },
    {
      "cell_type": "markdown",
      "source": [
        "Se inicia la exploración de datos para empezar a limpiar data"
      ],
      "metadata": {
        "id": "j7n7IT4hLnmD"
      }
    },
    {
      "cell_type": "code",
      "source": [
        "import matplotlib.pyplot as plt\n",
        "import seaborn as sns\n",
        "from scipy import stats"
      ],
      "metadata": {
        "id": "jld24cbLfjym"
      },
      "execution_count": 363,
      "outputs": []
    },
    {
      "cell_type": "markdown",
      "source": [
        "Se transforman los datos a un DataFrame para una mejora manipulación de los datos"
      ],
      "metadata": {
        "id": "j7_Zita6I1Y1"
      }
    },
    {
      "cell_type": "code",
      "source": [
        "datos = pd.DataFrame(df_results)"
      ],
      "metadata": {
        "id": "ZPYYejCEfkS-"
      },
      "execution_count": 364,
      "outputs": []
    },
    {
      "cell_type": "markdown",
      "source": [
        "Se hace un .head para empezar a familiarizar con los datos"
      ],
      "metadata": {
        "id": "nyUUUJm1I8gi"
      }
    },
    {
      "cell_type": "code",
      "source": [
        "print(f'Descripcion Data: ')\n",
        "datos.head() #muestra de los primeros 5 registros"
      ],
      "metadata": {
        "colab": {
          "base_uri": "https://localhost:8080/",
          "height": 503
        },
        "id": "rQRWjHXzz0HM",
        "outputId": "14ad91a1-2b51-4f6e-dc5d-57943b6b3ab7"
      },
      "execution_count": 365,
      "outputs": [
        {
          "output_type": "stream",
          "name": "stdout",
          "text": [
            "Descripcion Data: \n"
          ]
        },
        {
          "output_type": "execute_result",
          "data": {
            "text/plain": [
              "   locationId                      location parameter  value  \\\n",
              "0        7077  US Diplomatic Post: San Jose      pm25 -999.0   \n",
              "1        7077  US Diplomatic Post: San Jose      pm25 -999.0   \n",
              "2        7077  US Diplomatic Post: San Jose      pm25 -999.0   \n",
              "3        7077  US Diplomatic Post: San Jose      pm25 -999.0   \n",
              "4        7077  US Diplomatic Post: San Jose      pm25 -999.0   \n",
              "\n",
              "                                                date   unit  \\\n",
              "0  {'utc': '2024-09-22T01:00:00+00:00', 'local': ...  µg/m³   \n",
              "1  {'utc': '2024-09-22T00:00:00+00:00', 'local': ...  µg/m³   \n",
              "2  {'utc': '2024-09-21T23:00:00+00:00', 'local': ...  µg/m³   \n",
              "3  {'utc': '2024-09-21T22:00:00+00:00', 'local': ...  µg/m³   \n",
              "4  {'utc': '2024-09-21T21:00:00+00:00', 'local': ...  µg/m³   \n",
              "\n",
              "                                       coordinates country  city  isMobile  \\\n",
              "0  {'latitude': 9.949488, 'longitude': -84.142876}      CR  None     False   \n",
              "1  {'latitude': 9.949488, 'longitude': -84.142876}      CR  None     False   \n",
              "2  {'latitude': 9.949488, 'longitude': -84.142876}      CR  None     False   \n",
              "3  {'latitude': 9.949488, 'longitude': -84.142876}      CR  None     False   \n",
              "4  {'latitude': 9.949488, 'longitude': -84.142876}      CR  None     False   \n",
              "\n",
              "  isAnalysis                     entity       sensorType  \n",
              "0       None  Governmental Organization  reference grade  \n",
              "1       None  Governmental Organization  reference grade  \n",
              "2       None  Governmental Organization  reference grade  \n",
              "3       None  Governmental Organization  reference grade  \n",
              "4       None  Governmental Organization  reference grade  "
            ],
            "text/html": [
              "\n",
              "  <div id=\"df-7d012f51-52c7-40d0-bbdf-a900bfd0b057\" class=\"colab-df-container\">\n",
              "    <div>\n",
              "<style scoped>\n",
              "    .dataframe tbody tr th:only-of-type {\n",
              "        vertical-align: middle;\n",
              "    }\n",
              "\n",
              "    .dataframe tbody tr th {\n",
              "        vertical-align: top;\n",
              "    }\n",
              "\n",
              "    .dataframe thead th {\n",
              "        text-align: right;\n",
              "    }\n",
              "</style>\n",
              "<table border=\"1\" class=\"dataframe\">\n",
              "  <thead>\n",
              "    <tr style=\"text-align: right;\">\n",
              "      <th></th>\n",
              "      <th>locationId</th>\n",
              "      <th>location</th>\n",
              "      <th>parameter</th>\n",
              "      <th>value</th>\n",
              "      <th>date</th>\n",
              "      <th>unit</th>\n",
              "      <th>coordinates</th>\n",
              "      <th>country</th>\n",
              "      <th>city</th>\n",
              "      <th>isMobile</th>\n",
              "      <th>isAnalysis</th>\n",
              "      <th>entity</th>\n",
              "      <th>sensorType</th>\n",
              "    </tr>\n",
              "  </thead>\n",
              "  <tbody>\n",
              "    <tr>\n",
              "      <th>0</th>\n",
              "      <td>7077</td>\n",
              "      <td>US Diplomatic Post: San Jose</td>\n",
              "      <td>pm25</td>\n",
              "      <td>-999.0</td>\n",
              "      <td>{'utc': '2024-09-22T01:00:00+00:00', 'local': ...</td>\n",
              "      <td>µg/m³</td>\n",
              "      <td>{'latitude': 9.949488, 'longitude': -84.142876}</td>\n",
              "      <td>CR</td>\n",
              "      <td>None</td>\n",
              "      <td>False</td>\n",
              "      <td>None</td>\n",
              "      <td>Governmental Organization</td>\n",
              "      <td>reference grade</td>\n",
              "    </tr>\n",
              "    <tr>\n",
              "      <th>1</th>\n",
              "      <td>7077</td>\n",
              "      <td>US Diplomatic Post: San Jose</td>\n",
              "      <td>pm25</td>\n",
              "      <td>-999.0</td>\n",
              "      <td>{'utc': '2024-09-22T00:00:00+00:00', 'local': ...</td>\n",
              "      <td>µg/m³</td>\n",
              "      <td>{'latitude': 9.949488, 'longitude': -84.142876}</td>\n",
              "      <td>CR</td>\n",
              "      <td>None</td>\n",
              "      <td>False</td>\n",
              "      <td>None</td>\n",
              "      <td>Governmental Organization</td>\n",
              "      <td>reference grade</td>\n",
              "    </tr>\n",
              "    <tr>\n",
              "      <th>2</th>\n",
              "      <td>7077</td>\n",
              "      <td>US Diplomatic Post: San Jose</td>\n",
              "      <td>pm25</td>\n",
              "      <td>-999.0</td>\n",
              "      <td>{'utc': '2024-09-21T23:00:00+00:00', 'local': ...</td>\n",
              "      <td>µg/m³</td>\n",
              "      <td>{'latitude': 9.949488, 'longitude': -84.142876}</td>\n",
              "      <td>CR</td>\n",
              "      <td>None</td>\n",
              "      <td>False</td>\n",
              "      <td>None</td>\n",
              "      <td>Governmental Organization</td>\n",
              "      <td>reference grade</td>\n",
              "    </tr>\n",
              "    <tr>\n",
              "      <th>3</th>\n",
              "      <td>7077</td>\n",
              "      <td>US Diplomatic Post: San Jose</td>\n",
              "      <td>pm25</td>\n",
              "      <td>-999.0</td>\n",
              "      <td>{'utc': '2024-09-21T22:00:00+00:00', 'local': ...</td>\n",
              "      <td>µg/m³</td>\n",
              "      <td>{'latitude': 9.949488, 'longitude': -84.142876}</td>\n",
              "      <td>CR</td>\n",
              "      <td>None</td>\n",
              "      <td>False</td>\n",
              "      <td>None</td>\n",
              "      <td>Governmental Organization</td>\n",
              "      <td>reference grade</td>\n",
              "    </tr>\n",
              "    <tr>\n",
              "      <th>4</th>\n",
              "      <td>7077</td>\n",
              "      <td>US Diplomatic Post: San Jose</td>\n",
              "      <td>pm25</td>\n",
              "      <td>-999.0</td>\n",
              "      <td>{'utc': '2024-09-21T21:00:00+00:00', 'local': ...</td>\n",
              "      <td>µg/m³</td>\n",
              "      <td>{'latitude': 9.949488, 'longitude': -84.142876}</td>\n",
              "      <td>CR</td>\n",
              "      <td>None</td>\n",
              "      <td>False</td>\n",
              "      <td>None</td>\n",
              "      <td>Governmental Organization</td>\n",
              "      <td>reference grade</td>\n",
              "    </tr>\n",
              "  </tbody>\n",
              "</table>\n",
              "</div>\n",
              "    <div class=\"colab-df-buttons\">\n",
              "\n",
              "  <div class=\"colab-df-container\">\n",
              "    <button class=\"colab-df-convert\" onclick=\"convertToInteractive('df-7d012f51-52c7-40d0-bbdf-a900bfd0b057')\"\n",
              "            title=\"Convert this dataframe to an interactive table.\"\n",
              "            style=\"display:none;\">\n",
              "\n",
              "  <svg xmlns=\"http://www.w3.org/2000/svg\" height=\"24px\" viewBox=\"0 -960 960 960\">\n",
              "    <path d=\"M120-120v-720h720v720H120Zm60-500h600v-160H180v160Zm220 220h160v-160H400v160Zm0 220h160v-160H400v160ZM180-400h160v-160H180v160Zm440 0h160v-160H620v160ZM180-180h160v-160H180v160Zm440 0h160v-160H620v160Z\"/>\n",
              "  </svg>\n",
              "    </button>\n",
              "\n",
              "  <style>\n",
              "    .colab-df-container {\n",
              "      display:flex;\n",
              "      gap: 12px;\n",
              "    }\n",
              "\n",
              "    .colab-df-convert {\n",
              "      background-color: #E8F0FE;\n",
              "      border: none;\n",
              "      border-radius: 50%;\n",
              "      cursor: pointer;\n",
              "      display: none;\n",
              "      fill: #1967D2;\n",
              "      height: 32px;\n",
              "      padding: 0 0 0 0;\n",
              "      width: 32px;\n",
              "    }\n",
              "\n",
              "    .colab-df-convert:hover {\n",
              "      background-color: #E2EBFA;\n",
              "      box-shadow: 0px 1px 2px rgba(60, 64, 67, 0.3), 0px 1px 3px 1px rgba(60, 64, 67, 0.15);\n",
              "      fill: #174EA6;\n",
              "    }\n",
              "\n",
              "    .colab-df-buttons div {\n",
              "      margin-bottom: 4px;\n",
              "    }\n",
              "\n",
              "    [theme=dark] .colab-df-convert {\n",
              "      background-color: #3B4455;\n",
              "      fill: #D2E3FC;\n",
              "    }\n",
              "\n",
              "    [theme=dark] .colab-df-convert:hover {\n",
              "      background-color: #434B5C;\n",
              "      box-shadow: 0px 1px 3px 1px rgba(0, 0, 0, 0.15);\n",
              "      filter: drop-shadow(0px 1px 2px rgba(0, 0, 0, 0.3));\n",
              "      fill: #FFFFFF;\n",
              "    }\n",
              "  </style>\n",
              "\n",
              "    <script>\n",
              "      const buttonEl =\n",
              "        document.querySelector('#df-7d012f51-52c7-40d0-bbdf-a900bfd0b057 button.colab-df-convert');\n",
              "      buttonEl.style.display =\n",
              "        google.colab.kernel.accessAllowed ? 'block' : 'none';\n",
              "\n",
              "      async function convertToInteractive(key) {\n",
              "        const element = document.querySelector('#df-7d012f51-52c7-40d0-bbdf-a900bfd0b057');\n",
              "        const dataTable =\n",
              "          await google.colab.kernel.invokeFunction('convertToInteractive',\n",
              "                                                    [key], {});\n",
              "        if (!dataTable) return;\n",
              "\n",
              "        const docLinkHtml = 'Like what you see? Visit the ' +\n",
              "          '<a target=\"_blank\" href=https://colab.research.google.com/notebooks/data_table.ipynb>data table notebook</a>'\n",
              "          + ' to learn more about interactive tables.';\n",
              "        element.innerHTML = '';\n",
              "        dataTable['output_type'] = 'display_data';\n",
              "        await google.colab.output.renderOutput(dataTable, element);\n",
              "        const docLink = document.createElement('div');\n",
              "        docLink.innerHTML = docLinkHtml;\n",
              "        element.appendChild(docLink);\n",
              "      }\n",
              "    </script>\n",
              "  </div>\n",
              "\n",
              "\n",
              "<div id=\"df-5b318905-3491-42ff-8ae8-63f30c9692ea\">\n",
              "  <button class=\"colab-df-quickchart\" onclick=\"quickchart('df-5b318905-3491-42ff-8ae8-63f30c9692ea')\"\n",
              "            title=\"Suggest charts\"\n",
              "            style=\"display:none;\">\n",
              "\n",
              "<svg xmlns=\"http://www.w3.org/2000/svg\" height=\"24px\"viewBox=\"0 0 24 24\"\n",
              "     width=\"24px\">\n",
              "    <g>\n",
              "        <path d=\"M19 3H5c-1.1 0-2 .9-2 2v14c0 1.1.9 2 2 2h14c1.1 0 2-.9 2-2V5c0-1.1-.9-2-2-2zM9 17H7v-7h2v7zm4 0h-2V7h2v10zm4 0h-2v-4h2v4z\"/>\n",
              "    </g>\n",
              "</svg>\n",
              "  </button>\n",
              "\n",
              "<style>\n",
              "  .colab-df-quickchart {\n",
              "      --bg-color: #E8F0FE;\n",
              "      --fill-color: #1967D2;\n",
              "      --hover-bg-color: #E2EBFA;\n",
              "      --hover-fill-color: #174EA6;\n",
              "      --disabled-fill-color: #AAA;\n",
              "      --disabled-bg-color: #DDD;\n",
              "  }\n",
              "\n",
              "  [theme=dark] .colab-df-quickchart {\n",
              "      --bg-color: #3B4455;\n",
              "      --fill-color: #D2E3FC;\n",
              "      --hover-bg-color: #434B5C;\n",
              "      --hover-fill-color: #FFFFFF;\n",
              "      --disabled-bg-color: #3B4455;\n",
              "      --disabled-fill-color: #666;\n",
              "  }\n",
              "\n",
              "  .colab-df-quickchart {\n",
              "    background-color: var(--bg-color);\n",
              "    border: none;\n",
              "    border-radius: 50%;\n",
              "    cursor: pointer;\n",
              "    display: none;\n",
              "    fill: var(--fill-color);\n",
              "    height: 32px;\n",
              "    padding: 0;\n",
              "    width: 32px;\n",
              "  }\n",
              "\n",
              "  .colab-df-quickchart:hover {\n",
              "    background-color: var(--hover-bg-color);\n",
              "    box-shadow: 0 1px 2px rgba(60, 64, 67, 0.3), 0 1px 3px 1px rgba(60, 64, 67, 0.15);\n",
              "    fill: var(--button-hover-fill-color);\n",
              "  }\n",
              "\n",
              "  .colab-df-quickchart-complete:disabled,\n",
              "  .colab-df-quickchart-complete:disabled:hover {\n",
              "    background-color: var(--disabled-bg-color);\n",
              "    fill: var(--disabled-fill-color);\n",
              "    box-shadow: none;\n",
              "  }\n",
              "\n",
              "  .colab-df-spinner {\n",
              "    border: 2px solid var(--fill-color);\n",
              "    border-color: transparent;\n",
              "    border-bottom-color: var(--fill-color);\n",
              "    animation:\n",
              "      spin 1s steps(1) infinite;\n",
              "  }\n",
              "\n",
              "  @keyframes spin {\n",
              "    0% {\n",
              "      border-color: transparent;\n",
              "      border-bottom-color: var(--fill-color);\n",
              "      border-left-color: var(--fill-color);\n",
              "    }\n",
              "    20% {\n",
              "      border-color: transparent;\n",
              "      border-left-color: var(--fill-color);\n",
              "      border-top-color: var(--fill-color);\n",
              "    }\n",
              "    30% {\n",
              "      border-color: transparent;\n",
              "      border-left-color: var(--fill-color);\n",
              "      border-top-color: var(--fill-color);\n",
              "      border-right-color: var(--fill-color);\n",
              "    }\n",
              "    40% {\n",
              "      border-color: transparent;\n",
              "      border-right-color: var(--fill-color);\n",
              "      border-top-color: var(--fill-color);\n",
              "    }\n",
              "    60% {\n",
              "      border-color: transparent;\n",
              "      border-right-color: var(--fill-color);\n",
              "    }\n",
              "    80% {\n",
              "      border-color: transparent;\n",
              "      border-right-color: var(--fill-color);\n",
              "      border-bottom-color: var(--fill-color);\n",
              "    }\n",
              "    90% {\n",
              "      border-color: transparent;\n",
              "      border-bottom-color: var(--fill-color);\n",
              "    }\n",
              "  }\n",
              "</style>\n",
              "\n",
              "  <script>\n",
              "    async function quickchart(key) {\n",
              "      const quickchartButtonEl =\n",
              "        document.querySelector('#' + key + ' button');\n",
              "      quickchartButtonEl.disabled = true;  // To prevent multiple clicks.\n",
              "      quickchartButtonEl.classList.add('colab-df-spinner');\n",
              "      try {\n",
              "        const charts = await google.colab.kernel.invokeFunction(\n",
              "            'suggestCharts', [key], {});\n",
              "      } catch (error) {\n",
              "        console.error('Error during call to suggestCharts:', error);\n",
              "      }\n",
              "      quickchartButtonEl.classList.remove('colab-df-spinner');\n",
              "      quickchartButtonEl.classList.add('colab-df-quickchart-complete');\n",
              "    }\n",
              "    (() => {\n",
              "      let quickchartButtonEl =\n",
              "        document.querySelector('#df-5b318905-3491-42ff-8ae8-63f30c9692ea button');\n",
              "      quickchartButtonEl.style.display =\n",
              "        google.colab.kernel.accessAllowed ? 'block' : 'none';\n",
              "    })();\n",
              "  </script>\n",
              "</div>\n",
              "\n",
              "    </div>\n",
              "  </div>\n"
            ],
            "application/vnd.google.colaboratory.intrinsic+json": {
              "type": "dataframe",
              "variable_name": "datos"
            }
          },
          "metadata": {},
          "execution_count": 365
        }
      ]
    },
    {
      "cell_type": "markdown",
      "source": [
        "Como se detectaron datos anidados (dict) se realiza la siguiente normalización y condición para separa los datos en nuevas columnas"
      ],
      "metadata": {
        "id": "AR1c-AJiJne2"
      }
    },
    {
      "cell_type": "code",
      "source": [
        "# Normalizar los datos\n",
        "datos_normalizados = json_normalize(df_results)\n",
        "\n",
        "# Si hay parámetros anidados dentro de los resultados, normalizarlos también\n",
        "if 'parameters' in datos_normalizados.columns:\n",
        "  df_parameters = json_normalize(datos_normalizados['parameters'].explode())\n",
        "  datos_normalizados = datos_normalizados.drop(columns=['parameters']).join(df_parameters, rsuffix='_param')"
      ],
      "metadata": {
        "id": "1e3VYvDBJnrL"
      },
      "execution_count": 366,
      "outputs": []
    },
    {
      "cell_type": "markdown",
      "source": [
        "Se vuelve a imprimir el dataframe para visualizar las nuevas columas"
      ],
      "metadata": {
        "id": "mpgBdm9GPirE"
      }
    },
    {
      "cell_type": "code",
      "source": [
        "datos = pd.DataFrame(datos_normalizados)\n",
        "datos.head()"
      ],
      "metadata": {
        "id": "4QDaZ6sUKkDt",
        "outputId": "9e922071-333b-4b83-cdc9-ddfb73fd0864",
        "colab": {
          "base_uri": "https://localhost:8080/",
          "height": 486
        }
      },
      "execution_count": 367,
      "outputs": [
        {
          "output_type": "execute_result",
          "data": {
            "text/plain": [
              "   locationId                      location parameter  value   unit country  \\\n",
              "0        7077  US Diplomatic Post: San Jose      pm25 -999.0  µg/m³      CR   \n",
              "1        7077  US Diplomatic Post: San Jose      pm25 -999.0  µg/m³      CR   \n",
              "2        7077  US Diplomatic Post: San Jose      pm25 -999.0  µg/m³      CR   \n",
              "3        7077  US Diplomatic Post: San Jose      pm25 -999.0  µg/m³      CR   \n",
              "4        7077  US Diplomatic Post: San Jose      pm25 -999.0  µg/m³      CR   \n",
              "\n",
              "   city  isMobile isAnalysis                     entity       sensorType  \\\n",
              "0  None     False       None  Governmental Organization  reference grade   \n",
              "1  None     False       None  Governmental Organization  reference grade   \n",
              "2  None     False       None  Governmental Organization  reference grade   \n",
              "3  None     False       None  Governmental Organization  reference grade   \n",
              "4  None     False       None  Governmental Organization  reference grade   \n",
              "\n",
              "                    date.utc                 date.local  coordinates.latitude  \\\n",
              "0  2024-09-22T01:00:00+00:00  2024-09-21T19:00:00-06:00              9.949488   \n",
              "1  2024-09-22T00:00:00+00:00  2024-09-21T18:00:00-06:00              9.949488   \n",
              "2  2024-09-21T23:00:00+00:00  2024-09-21T17:00:00-06:00              9.949488   \n",
              "3  2024-09-21T22:00:00+00:00  2024-09-21T16:00:00-06:00              9.949488   \n",
              "4  2024-09-21T21:00:00+00:00  2024-09-21T15:00:00-06:00              9.949488   \n",
              "\n",
              "   coordinates.longitude  \n",
              "0             -84.142876  \n",
              "1             -84.142876  \n",
              "2             -84.142876  \n",
              "3             -84.142876  \n",
              "4             -84.142876  "
            ],
            "text/html": [
              "\n",
              "  <div id=\"df-f0b6f60f-43ec-4c79-a55b-ed20607b4f96\" class=\"colab-df-container\">\n",
              "    <div>\n",
              "<style scoped>\n",
              "    .dataframe tbody tr th:only-of-type {\n",
              "        vertical-align: middle;\n",
              "    }\n",
              "\n",
              "    .dataframe tbody tr th {\n",
              "        vertical-align: top;\n",
              "    }\n",
              "\n",
              "    .dataframe thead th {\n",
              "        text-align: right;\n",
              "    }\n",
              "</style>\n",
              "<table border=\"1\" class=\"dataframe\">\n",
              "  <thead>\n",
              "    <tr style=\"text-align: right;\">\n",
              "      <th></th>\n",
              "      <th>locationId</th>\n",
              "      <th>location</th>\n",
              "      <th>parameter</th>\n",
              "      <th>value</th>\n",
              "      <th>unit</th>\n",
              "      <th>country</th>\n",
              "      <th>city</th>\n",
              "      <th>isMobile</th>\n",
              "      <th>isAnalysis</th>\n",
              "      <th>entity</th>\n",
              "      <th>sensorType</th>\n",
              "      <th>date.utc</th>\n",
              "      <th>date.local</th>\n",
              "      <th>coordinates.latitude</th>\n",
              "      <th>coordinates.longitude</th>\n",
              "    </tr>\n",
              "  </thead>\n",
              "  <tbody>\n",
              "    <tr>\n",
              "      <th>0</th>\n",
              "      <td>7077</td>\n",
              "      <td>US Diplomatic Post: San Jose</td>\n",
              "      <td>pm25</td>\n",
              "      <td>-999.0</td>\n",
              "      <td>µg/m³</td>\n",
              "      <td>CR</td>\n",
              "      <td>None</td>\n",
              "      <td>False</td>\n",
              "      <td>None</td>\n",
              "      <td>Governmental Organization</td>\n",
              "      <td>reference grade</td>\n",
              "      <td>2024-09-22T01:00:00+00:00</td>\n",
              "      <td>2024-09-21T19:00:00-06:00</td>\n",
              "      <td>9.949488</td>\n",
              "      <td>-84.142876</td>\n",
              "    </tr>\n",
              "    <tr>\n",
              "      <th>1</th>\n",
              "      <td>7077</td>\n",
              "      <td>US Diplomatic Post: San Jose</td>\n",
              "      <td>pm25</td>\n",
              "      <td>-999.0</td>\n",
              "      <td>µg/m³</td>\n",
              "      <td>CR</td>\n",
              "      <td>None</td>\n",
              "      <td>False</td>\n",
              "      <td>None</td>\n",
              "      <td>Governmental Organization</td>\n",
              "      <td>reference grade</td>\n",
              "      <td>2024-09-22T00:00:00+00:00</td>\n",
              "      <td>2024-09-21T18:00:00-06:00</td>\n",
              "      <td>9.949488</td>\n",
              "      <td>-84.142876</td>\n",
              "    </tr>\n",
              "    <tr>\n",
              "      <th>2</th>\n",
              "      <td>7077</td>\n",
              "      <td>US Diplomatic Post: San Jose</td>\n",
              "      <td>pm25</td>\n",
              "      <td>-999.0</td>\n",
              "      <td>µg/m³</td>\n",
              "      <td>CR</td>\n",
              "      <td>None</td>\n",
              "      <td>False</td>\n",
              "      <td>None</td>\n",
              "      <td>Governmental Organization</td>\n",
              "      <td>reference grade</td>\n",
              "      <td>2024-09-21T23:00:00+00:00</td>\n",
              "      <td>2024-09-21T17:00:00-06:00</td>\n",
              "      <td>9.949488</td>\n",
              "      <td>-84.142876</td>\n",
              "    </tr>\n",
              "    <tr>\n",
              "      <th>3</th>\n",
              "      <td>7077</td>\n",
              "      <td>US Diplomatic Post: San Jose</td>\n",
              "      <td>pm25</td>\n",
              "      <td>-999.0</td>\n",
              "      <td>µg/m³</td>\n",
              "      <td>CR</td>\n",
              "      <td>None</td>\n",
              "      <td>False</td>\n",
              "      <td>None</td>\n",
              "      <td>Governmental Organization</td>\n",
              "      <td>reference grade</td>\n",
              "      <td>2024-09-21T22:00:00+00:00</td>\n",
              "      <td>2024-09-21T16:00:00-06:00</td>\n",
              "      <td>9.949488</td>\n",
              "      <td>-84.142876</td>\n",
              "    </tr>\n",
              "    <tr>\n",
              "      <th>4</th>\n",
              "      <td>7077</td>\n",
              "      <td>US Diplomatic Post: San Jose</td>\n",
              "      <td>pm25</td>\n",
              "      <td>-999.0</td>\n",
              "      <td>µg/m³</td>\n",
              "      <td>CR</td>\n",
              "      <td>None</td>\n",
              "      <td>False</td>\n",
              "      <td>None</td>\n",
              "      <td>Governmental Organization</td>\n",
              "      <td>reference grade</td>\n",
              "      <td>2024-09-21T21:00:00+00:00</td>\n",
              "      <td>2024-09-21T15:00:00-06:00</td>\n",
              "      <td>9.949488</td>\n",
              "      <td>-84.142876</td>\n",
              "    </tr>\n",
              "  </tbody>\n",
              "</table>\n",
              "</div>\n",
              "    <div class=\"colab-df-buttons\">\n",
              "\n",
              "  <div class=\"colab-df-container\">\n",
              "    <button class=\"colab-df-convert\" onclick=\"convertToInteractive('df-f0b6f60f-43ec-4c79-a55b-ed20607b4f96')\"\n",
              "            title=\"Convert this dataframe to an interactive table.\"\n",
              "            style=\"display:none;\">\n",
              "\n",
              "  <svg xmlns=\"http://www.w3.org/2000/svg\" height=\"24px\" viewBox=\"0 -960 960 960\">\n",
              "    <path d=\"M120-120v-720h720v720H120Zm60-500h600v-160H180v160Zm220 220h160v-160H400v160Zm0 220h160v-160H400v160ZM180-400h160v-160H180v160Zm440 0h160v-160H620v160ZM180-180h160v-160H180v160Zm440 0h160v-160H620v160Z\"/>\n",
              "  </svg>\n",
              "    </button>\n",
              "\n",
              "  <style>\n",
              "    .colab-df-container {\n",
              "      display:flex;\n",
              "      gap: 12px;\n",
              "    }\n",
              "\n",
              "    .colab-df-convert {\n",
              "      background-color: #E8F0FE;\n",
              "      border: none;\n",
              "      border-radius: 50%;\n",
              "      cursor: pointer;\n",
              "      display: none;\n",
              "      fill: #1967D2;\n",
              "      height: 32px;\n",
              "      padding: 0 0 0 0;\n",
              "      width: 32px;\n",
              "    }\n",
              "\n",
              "    .colab-df-convert:hover {\n",
              "      background-color: #E2EBFA;\n",
              "      box-shadow: 0px 1px 2px rgba(60, 64, 67, 0.3), 0px 1px 3px 1px rgba(60, 64, 67, 0.15);\n",
              "      fill: #174EA6;\n",
              "    }\n",
              "\n",
              "    .colab-df-buttons div {\n",
              "      margin-bottom: 4px;\n",
              "    }\n",
              "\n",
              "    [theme=dark] .colab-df-convert {\n",
              "      background-color: #3B4455;\n",
              "      fill: #D2E3FC;\n",
              "    }\n",
              "\n",
              "    [theme=dark] .colab-df-convert:hover {\n",
              "      background-color: #434B5C;\n",
              "      box-shadow: 0px 1px 3px 1px rgba(0, 0, 0, 0.15);\n",
              "      filter: drop-shadow(0px 1px 2px rgba(0, 0, 0, 0.3));\n",
              "      fill: #FFFFFF;\n",
              "    }\n",
              "  </style>\n",
              "\n",
              "    <script>\n",
              "      const buttonEl =\n",
              "        document.querySelector('#df-f0b6f60f-43ec-4c79-a55b-ed20607b4f96 button.colab-df-convert');\n",
              "      buttonEl.style.display =\n",
              "        google.colab.kernel.accessAllowed ? 'block' : 'none';\n",
              "\n",
              "      async function convertToInteractive(key) {\n",
              "        const element = document.querySelector('#df-f0b6f60f-43ec-4c79-a55b-ed20607b4f96');\n",
              "        const dataTable =\n",
              "          await google.colab.kernel.invokeFunction('convertToInteractive',\n",
              "                                                    [key], {});\n",
              "        if (!dataTable) return;\n",
              "\n",
              "        const docLinkHtml = 'Like what you see? Visit the ' +\n",
              "          '<a target=\"_blank\" href=https://colab.research.google.com/notebooks/data_table.ipynb>data table notebook</a>'\n",
              "          + ' to learn more about interactive tables.';\n",
              "        element.innerHTML = '';\n",
              "        dataTable['output_type'] = 'display_data';\n",
              "        await google.colab.output.renderOutput(dataTable, element);\n",
              "        const docLink = document.createElement('div');\n",
              "        docLink.innerHTML = docLinkHtml;\n",
              "        element.appendChild(docLink);\n",
              "      }\n",
              "    </script>\n",
              "  </div>\n",
              "\n",
              "\n",
              "<div id=\"df-d4f248ea-dfc9-4dbe-a83c-3d6f57b314f4\">\n",
              "  <button class=\"colab-df-quickchart\" onclick=\"quickchart('df-d4f248ea-dfc9-4dbe-a83c-3d6f57b314f4')\"\n",
              "            title=\"Suggest charts\"\n",
              "            style=\"display:none;\">\n",
              "\n",
              "<svg xmlns=\"http://www.w3.org/2000/svg\" height=\"24px\"viewBox=\"0 0 24 24\"\n",
              "     width=\"24px\">\n",
              "    <g>\n",
              "        <path d=\"M19 3H5c-1.1 0-2 .9-2 2v14c0 1.1.9 2 2 2h14c1.1 0 2-.9 2-2V5c0-1.1-.9-2-2-2zM9 17H7v-7h2v7zm4 0h-2V7h2v10zm4 0h-2v-4h2v4z\"/>\n",
              "    </g>\n",
              "</svg>\n",
              "  </button>\n",
              "\n",
              "<style>\n",
              "  .colab-df-quickchart {\n",
              "      --bg-color: #E8F0FE;\n",
              "      --fill-color: #1967D2;\n",
              "      --hover-bg-color: #E2EBFA;\n",
              "      --hover-fill-color: #174EA6;\n",
              "      --disabled-fill-color: #AAA;\n",
              "      --disabled-bg-color: #DDD;\n",
              "  }\n",
              "\n",
              "  [theme=dark] .colab-df-quickchart {\n",
              "      --bg-color: #3B4455;\n",
              "      --fill-color: #D2E3FC;\n",
              "      --hover-bg-color: #434B5C;\n",
              "      --hover-fill-color: #FFFFFF;\n",
              "      --disabled-bg-color: #3B4455;\n",
              "      --disabled-fill-color: #666;\n",
              "  }\n",
              "\n",
              "  .colab-df-quickchart {\n",
              "    background-color: var(--bg-color);\n",
              "    border: none;\n",
              "    border-radius: 50%;\n",
              "    cursor: pointer;\n",
              "    display: none;\n",
              "    fill: var(--fill-color);\n",
              "    height: 32px;\n",
              "    padding: 0;\n",
              "    width: 32px;\n",
              "  }\n",
              "\n",
              "  .colab-df-quickchart:hover {\n",
              "    background-color: var(--hover-bg-color);\n",
              "    box-shadow: 0 1px 2px rgba(60, 64, 67, 0.3), 0 1px 3px 1px rgba(60, 64, 67, 0.15);\n",
              "    fill: var(--button-hover-fill-color);\n",
              "  }\n",
              "\n",
              "  .colab-df-quickchart-complete:disabled,\n",
              "  .colab-df-quickchart-complete:disabled:hover {\n",
              "    background-color: var(--disabled-bg-color);\n",
              "    fill: var(--disabled-fill-color);\n",
              "    box-shadow: none;\n",
              "  }\n",
              "\n",
              "  .colab-df-spinner {\n",
              "    border: 2px solid var(--fill-color);\n",
              "    border-color: transparent;\n",
              "    border-bottom-color: var(--fill-color);\n",
              "    animation:\n",
              "      spin 1s steps(1) infinite;\n",
              "  }\n",
              "\n",
              "  @keyframes spin {\n",
              "    0% {\n",
              "      border-color: transparent;\n",
              "      border-bottom-color: var(--fill-color);\n",
              "      border-left-color: var(--fill-color);\n",
              "    }\n",
              "    20% {\n",
              "      border-color: transparent;\n",
              "      border-left-color: var(--fill-color);\n",
              "      border-top-color: var(--fill-color);\n",
              "    }\n",
              "    30% {\n",
              "      border-color: transparent;\n",
              "      border-left-color: var(--fill-color);\n",
              "      border-top-color: var(--fill-color);\n",
              "      border-right-color: var(--fill-color);\n",
              "    }\n",
              "    40% {\n",
              "      border-color: transparent;\n",
              "      border-right-color: var(--fill-color);\n",
              "      border-top-color: var(--fill-color);\n",
              "    }\n",
              "    60% {\n",
              "      border-color: transparent;\n",
              "      border-right-color: var(--fill-color);\n",
              "    }\n",
              "    80% {\n",
              "      border-color: transparent;\n",
              "      border-right-color: var(--fill-color);\n",
              "      border-bottom-color: var(--fill-color);\n",
              "    }\n",
              "    90% {\n",
              "      border-color: transparent;\n",
              "      border-bottom-color: var(--fill-color);\n",
              "    }\n",
              "  }\n",
              "</style>\n",
              "\n",
              "  <script>\n",
              "    async function quickchart(key) {\n",
              "      const quickchartButtonEl =\n",
              "        document.querySelector('#' + key + ' button');\n",
              "      quickchartButtonEl.disabled = true;  // To prevent multiple clicks.\n",
              "      quickchartButtonEl.classList.add('colab-df-spinner');\n",
              "      try {\n",
              "        const charts = await google.colab.kernel.invokeFunction(\n",
              "            'suggestCharts', [key], {});\n",
              "      } catch (error) {\n",
              "        console.error('Error during call to suggestCharts:', error);\n",
              "      }\n",
              "      quickchartButtonEl.classList.remove('colab-df-spinner');\n",
              "      quickchartButtonEl.classList.add('colab-df-quickchart-complete');\n",
              "    }\n",
              "    (() => {\n",
              "      let quickchartButtonEl =\n",
              "        document.querySelector('#df-d4f248ea-dfc9-4dbe-a83c-3d6f57b314f4 button');\n",
              "      quickchartButtonEl.style.display =\n",
              "        google.colab.kernel.accessAllowed ? 'block' : 'none';\n",
              "    })();\n",
              "  </script>\n",
              "</div>\n",
              "\n",
              "    </div>\n",
              "  </div>\n"
            ],
            "application/vnd.google.colaboratory.intrinsic+json": {
              "type": "dataframe",
              "variable_name": "datos"
            }
          },
          "metadata": {},
          "execution_count": 367
        }
      ]
    },
    {
      "cell_type": "markdown",
      "source": [
        "Esta línea de código devuelve el análisis de la tabla para exploración"
      ],
      "metadata": {
        "id": "93zkkFExyNFD"
      }
    },
    {
      "cell_type": "code",
      "source": [
        "# inicio de analisis y limpieza\n",
        "print(f'Descripción Data: ')# devuelve el analisis de la tabla para exploracion el mismo devuelve: promedio, conteo, min, max , persentiles 25/50/75 y desviacion estandar por cada variable\n",
        "datos.describe()"
      ],
      "metadata": {
        "colab": {
          "base_uri": "https://localhost:8080/",
          "height": 317
        },
        "id": "OJ-jijGxflq4",
        "outputId": "0d0b95f2-05f5-401f-cf35-ffbe4b7a6fb6"
      },
      "execution_count": 368,
      "outputs": [
        {
          "output_type": "stream",
          "name": "stdout",
          "text": [
            "Descripción Data: \n"
          ]
        },
        {
          "output_type": "execute_result",
          "data": {
            "text/plain": [
              "          locationId          value  coordinates.latitude  \\\n",
              "count  396487.000000  396487.000000         396487.000000   \n",
              "mean     3035.288289     -15.206889             24.193491   \n",
              "std      2168.955504     178.789571             30.829492   \n",
              "min       161.000000    -999.000000            -34.625270   \n",
              "25%       819.000000       0.034000              9.949488   \n",
              "50%      2948.000000       5.300000             29.723300   \n",
              "75%      4809.000000      18.000000             49.719281   \n",
              "max      7077.000000    1380.000000             53.559784   \n",
              "\n",
              "       coordinates.longitude  \n",
              "count          396487.000000  \n",
              "mean              -41.043062  \n",
              "std                44.957370  \n",
              "min               -95.756601  \n",
              "25%               -84.142876  \n",
              "50%               -58.365550  \n",
              "75%                 5.630398  \n",
              "max                14.525960  "
            ],
            "text/html": [
              "\n",
              "  <div id=\"df-cfaec33a-357f-460b-bb1c-633fecc0deb3\" class=\"colab-df-container\">\n",
              "    <div>\n",
              "<style scoped>\n",
              "    .dataframe tbody tr th:only-of-type {\n",
              "        vertical-align: middle;\n",
              "    }\n",
              "\n",
              "    .dataframe tbody tr th {\n",
              "        vertical-align: top;\n",
              "    }\n",
              "\n",
              "    .dataframe thead th {\n",
              "        text-align: right;\n",
              "    }\n",
              "</style>\n",
              "<table border=\"1\" class=\"dataframe\">\n",
              "  <thead>\n",
              "    <tr style=\"text-align: right;\">\n",
              "      <th></th>\n",
              "      <th>locationId</th>\n",
              "      <th>value</th>\n",
              "      <th>coordinates.latitude</th>\n",
              "      <th>coordinates.longitude</th>\n",
              "    </tr>\n",
              "  </thead>\n",
              "  <tbody>\n",
              "    <tr>\n",
              "      <th>count</th>\n",
              "      <td>396487.000000</td>\n",
              "      <td>396487.000000</td>\n",
              "      <td>396487.000000</td>\n",
              "      <td>396487.000000</td>\n",
              "    </tr>\n",
              "    <tr>\n",
              "      <th>mean</th>\n",
              "      <td>3035.288289</td>\n",
              "      <td>-15.206889</td>\n",
              "      <td>24.193491</td>\n",
              "      <td>-41.043062</td>\n",
              "    </tr>\n",
              "    <tr>\n",
              "      <th>std</th>\n",
              "      <td>2168.955504</td>\n",
              "      <td>178.789571</td>\n",
              "      <td>30.829492</td>\n",
              "      <td>44.957370</td>\n",
              "    </tr>\n",
              "    <tr>\n",
              "      <th>min</th>\n",
              "      <td>161.000000</td>\n",
              "      <td>-999.000000</td>\n",
              "      <td>-34.625270</td>\n",
              "      <td>-95.756601</td>\n",
              "    </tr>\n",
              "    <tr>\n",
              "      <th>25%</th>\n",
              "      <td>819.000000</td>\n",
              "      <td>0.034000</td>\n",
              "      <td>9.949488</td>\n",
              "      <td>-84.142876</td>\n",
              "    </tr>\n",
              "    <tr>\n",
              "      <th>50%</th>\n",
              "      <td>2948.000000</td>\n",
              "      <td>5.300000</td>\n",
              "      <td>29.723300</td>\n",
              "      <td>-58.365550</td>\n",
              "    </tr>\n",
              "    <tr>\n",
              "      <th>75%</th>\n",
              "      <td>4809.000000</td>\n",
              "      <td>18.000000</td>\n",
              "      <td>49.719281</td>\n",
              "      <td>5.630398</td>\n",
              "    </tr>\n",
              "    <tr>\n",
              "      <th>max</th>\n",
              "      <td>7077.000000</td>\n",
              "      <td>1380.000000</td>\n",
              "      <td>53.559784</td>\n",
              "      <td>14.525960</td>\n",
              "    </tr>\n",
              "  </tbody>\n",
              "</table>\n",
              "</div>\n",
              "    <div class=\"colab-df-buttons\">\n",
              "\n",
              "  <div class=\"colab-df-container\">\n",
              "    <button class=\"colab-df-convert\" onclick=\"convertToInteractive('df-cfaec33a-357f-460b-bb1c-633fecc0deb3')\"\n",
              "            title=\"Convert this dataframe to an interactive table.\"\n",
              "            style=\"display:none;\">\n",
              "\n",
              "  <svg xmlns=\"http://www.w3.org/2000/svg\" height=\"24px\" viewBox=\"0 -960 960 960\">\n",
              "    <path d=\"M120-120v-720h720v720H120Zm60-500h600v-160H180v160Zm220 220h160v-160H400v160Zm0 220h160v-160H400v160ZM180-400h160v-160H180v160Zm440 0h160v-160H620v160ZM180-180h160v-160H180v160Zm440 0h160v-160H620v160Z\"/>\n",
              "  </svg>\n",
              "    </button>\n",
              "\n",
              "  <style>\n",
              "    .colab-df-container {\n",
              "      display:flex;\n",
              "      gap: 12px;\n",
              "    }\n",
              "\n",
              "    .colab-df-convert {\n",
              "      background-color: #E8F0FE;\n",
              "      border: none;\n",
              "      border-radius: 50%;\n",
              "      cursor: pointer;\n",
              "      display: none;\n",
              "      fill: #1967D2;\n",
              "      height: 32px;\n",
              "      padding: 0 0 0 0;\n",
              "      width: 32px;\n",
              "    }\n",
              "\n",
              "    .colab-df-convert:hover {\n",
              "      background-color: #E2EBFA;\n",
              "      box-shadow: 0px 1px 2px rgba(60, 64, 67, 0.3), 0px 1px 3px 1px rgba(60, 64, 67, 0.15);\n",
              "      fill: #174EA6;\n",
              "    }\n",
              "\n",
              "    .colab-df-buttons div {\n",
              "      margin-bottom: 4px;\n",
              "    }\n",
              "\n",
              "    [theme=dark] .colab-df-convert {\n",
              "      background-color: #3B4455;\n",
              "      fill: #D2E3FC;\n",
              "    }\n",
              "\n",
              "    [theme=dark] .colab-df-convert:hover {\n",
              "      background-color: #434B5C;\n",
              "      box-shadow: 0px 1px 3px 1px rgba(0, 0, 0, 0.15);\n",
              "      filter: drop-shadow(0px 1px 2px rgba(0, 0, 0, 0.3));\n",
              "      fill: #FFFFFF;\n",
              "    }\n",
              "  </style>\n",
              "\n",
              "    <script>\n",
              "      const buttonEl =\n",
              "        document.querySelector('#df-cfaec33a-357f-460b-bb1c-633fecc0deb3 button.colab-df-convert');\n",
              "      buttonEl.style.display =\n",
              "        google.colab.kernel.accessAllowed ? 'block' : 'none';\n",
              "\n",
              "      async function convertToInteractive(key) {\n",
              "        const element = document.querySelector('#df-cfaec33a-357f-460b-bb1c-633fecc0deb3');\n",
              "        const dataTable =\n",
              "          await google.colab.kernel.invokeFunction('convertToInteractive',\n",
              "                                                    [key], {});\n",
              "        if (!dataTable) return;\n",
              "\n",
              "        const docLinkHtml = 'Like what you see? Visit the ' +\n",
              "          '<a target=\"_blank\" href=https://colab.research.google.com/notebooks/data_table.ipynb>data table notebook</a>'\n",
              "          + ' to learn more about interactive tables.';\n",
              "        element.innerHTML = '';\n",
              "        dataTable['output_type'] = 'display_data';\n",
              "        await google.colab.output.renderOutput(dataTable, element);\n",
              "        const docLink = document.createElement('div');\n",
              "        docLink.innerHTML = docLinkHtml;\n",
              "        element.appendChild(docLink);\n",
              "      }\n",
              "    </script>\n",
              "  </div>\n",
              "\n",
              "\n",
              "<div id=\"df-4176ff0b-3084-45f3-b5b3-bb2ebed9e877\">\n",
              "  <button class=\"colab-df-quickchart\" onclick=\"quickchart('df-4176ff0b-3084-45f3-b5b3-bb2ebed9e877')\"\n",
              "            title=\"Suggest charts\"\n",
              "            style=\"display:none;\">\n",
              "\n",
              "<svg xmlns=\"http://www.w3.org/2000/svg\" height=\"24px\"viewBox=\"0 0 24 24\"\n",
              "     width=\"24px\">\n",
              "    <g>\n",
              "        <path d=\"M19 3H5c-1.1 0-2 .9-2 2v14c0 1.1.9 2 2 2h14c1.1 0 2-.9 2-2V5c0-1.1-.9-2-2-2zM9 17H7v-7h2v7zm4 0h-2V7h2v10zm4 0h-2v-4h2v4z\"/>\n",
              "    </g>\n",
              "</svg>\n",
              "  </button>\n",
              "\n",
              "<style>\n",
              "  .colab-df-quickchart {\n",
              "      --bg-color: #E8F0FE;\n",
              "      --fill-color: #1967D2;\n",
              "      --hover-bg-color: #E2EBFA;\n",
              "      --hover-fill-color: #174EA6;\n",
              "      --disabled-fill-color: #AAA;\n",
              "      --disabled-bg-color: #DDD;\n",
              "  }\n",
              "\n",
              "  [theme=dark] .colab-df-quickchart {\n",
              "      --bg-color: #3B4455;\n",
              "      --fill-color: #D2E3FC;\n",
              "      --hover-bg-color: #434B5C;\n",
              "      --hover-fill-color: #FFFFFF;\n",
              "      --disabled-bg-color: #3B4455;\n",
              "      --disabled-fill-color: #666;\n",
              "  }\n",
              "\n",
              "  .colab-df-quickchart {\n",
              "    background-color: var(--bg-color);\n",
              "    border: none;\n",
              "    border-radius: 50%;\n",
              "    cursor: pointer;\n",
              "    display: none;\n",
              "    fill: var(--fill-color);\n",
              "    height: 32px;\n",
              "    padding: 0;\n",
              "    width: 32px;\n",
              "  }\n",
              "\n",
              "  .colab-df-quickchart:hover {\n",
              "    background-color: var(--hover-bg-color);\n",
              "    box-shadow: 0 1px 2px rgba(60, 64, 67, 0.3), 0 1px 3px 1px rgba(60, 64, 67, 0.15);\n",
              "    fill: var(--button-hover-fill-color);\n",
              "  }\n",
              "\n",
              "  .colab-df-quickchart-complete:disabled,\n",
              "  .colab-df-quickchart-complete:disabled:hover {\n",
              "    background-color: var(--disabled-bg-color);\n",
              "    fill: var(--disabled-fill-color);\n",
              "    box-shadow: none;\n",
              "  }\n",
              "\n",
              "  .colab-df-spinner {\n",
              "    border: 2px solid var(--fill-color);\n",
              "    border-color: transparent;\n",
              "    border-bottom-color: var(--fill-color);\n",
              "    animation:\n",
              "      spin 1s steps(1) infinite;\n",
              "  }\n",
              "\n",
              "  @keyframes spin {\n",
              "    0% {\n",
              "      border-color: transparent;\n",
              "      border-bottom-color: var(--fill-color);\n",
              "      border-left-color: var(--fill-color);\n",
              "    }\n",
              "    20% {\n",
              "      border-color: transparent;\n",
              "      border-left-color: var(--fill-color);\n",
              "      border-top-color: var(--fill-color);\n",
              "    }\n",
              "    30% {\n",
              "      border-color: transparent;\n",
              "      border-left-color: var(--fill-color);\n",
              "      border-top-color: var(--fill-color);\n",
              "      border-right-color: var(--fill-color);\n",
              "    }\n",
              "    40% {\n",
              "      border-color: transparent;\n",
              "      border-right-color: var(--fill-color);\n",
              "      border-top-color: var(--fill-color);\n",
              "    }\n",
              "    60% {\n",
              "      border-color: transparent;\n",
              "      border-right-color: var(--fill-color);\n",
              "    }\n",
              "    80% {\n",
              "      border-color: transparent;\n",
              "      border-right-color: var(--fill-color);\n",
              "      border-bottom-color: var(--fill-color);\n",
              "    }\n",
              "    90% {\n",
              "      border-color: transparent;\n",
              "      border-bottom-color: var(--fill-color);\n",
              "    }\n",
              "  }\n",
              "</style>\n",
              "\n",
              "  <script>\n",
              "    async function quickchart(key) {\n",
              "      const quickchartButtonEl =\n",
              "        document.querySelector('#' + key + ' button');\n",
              "      quickchartButtonEl.disabled = true;  // To prevent multiple clicks.\n",
              "      quickchartButtonEl.classList.add('colab-df-spinner');\n",
              "      try {\n",
              "        const charts = await google.colab.kernel.invokeFunction(\n",
              "            'suggestCharts', [key], {});\n",
              "      } catch (error) {\n",
              "        console.error('Error during call to suggestCharts:', error);\n",
              "      }\n",
              "      quickchartButtonEl.classList.remove('colab-df-spinner');\n",
              "      quickchartButtonEl.classList.add('colab-df-quickchart-complete');\n",
              "    }\n",
              "    (() => {\n",
              "      let quickchartButtonEl =\n",
              "        document.querySelector('#df-4176ff0b-3084-45f3-b5b3-bb2ebed9e877 button');\n",
              "      quickchartButtonEl.style.display =\n",
              "        google.colab.kernel.accessAllowed ? 'block' : 'none';\n",
              "    })();\n",
              "  </script>\n",
              "</div>\n",
              "\n",
              "    </div>\n",
              "  </div>\n"
            ],
            "application/vnd.google.colaboratory.intrinsic+json": {
              "type": "dataframe",
              "summary": "{\n  \"name\": \"datos\",\n  \"rows\": 8,\n  \"fields\": [\n    {\n      \"column\": \"locationId\",\n      \"properties\": {\n        \"dtype\": \"number\",\n        \"std\": 139134.89227239633,\n        \"min\": 161.0,\n        \"max\": 396487.0,\n        \"num_unique_values\": 8,\n        \"samples\": [\n          3035.28828940167,\n          2948.0,\n          396487.0\n        ],\n        \"semantic_type\": \"\",\n        \"description\": \"\"\n      }\n    },\n    {\n      \"column\": \"value\",\n      \"properties\": {\n        \"dtype\": \"number\",\n        \"std\": 140152.11137568508,\n        \"min\": -999.0,\n        \"max\": 396487.0,\n        \"num_unique_values\": 8,\n        \"samples\": [\n          -15.206889472635835,\n          5.3,\n          396487.0\n        ],\n        \"semantic_type\": \"\",\n        \"description\": \"\"\n      }\n    },\n    {\n      \"column\": \"coordinates.latitude\",\n      \"properties\": {\n        \"dtype\": \"number\",\n        \"std\": 140171.0754504167,\n        \"min\": -34.62527,\n        \"max\": 396487.0,\n        \"num_unique_values\": 8,\n        \"samples\": [\n          24.193491019880444,\n          29.7233,\n          396487.0\n        ],\n        \"semantic_type\": \"\",\n        \"description\": \"\"\n      }\n    },\n    {\n      \"column\": \"coordinates.longitude\",\n      \"properties\": {\n        \"dtype\": \"number\",\n        \"std\": 140190.15031233197,\n        \"min\": -95.756601,\n        \"max\": 396487.0,\n        \"num_unique_values\": 8,\n        \"samples\": [\n          -41.04306169198241,\n          -58.365550000000006,\n          396487.0\n        ],\n        \"semantic_type\": \"\",\n        \"description\": \"\"\n      }\n    }\n  ]\n}"
            }
          },
          "metadata": {},
          "execution_count": 368
        }
      ]
    },
    {
      "cell_type": "markdown",
      "source": [
        "La siguiente línea de código nos dice el tipo de dato por columna y cantidad de nulos"
      ],
      "metadata": {
        "id": "wVMETHfnyG-8"
      }
    },
    {
      "cell_type": "code",
      "source": [
        "datos.info()"
      ],
      "metadata": {
        "colab": {
          "base_uri": "https://localhost:8080/"
        },
        "id": "47LbauEBfq3X",
        "outputId": "f4338c71-e982-4069-be33-6cefa122fe83"
      },
      "execution_count": 369,
      "outputs": [
        {
          "output_type": "stream",
          "name": "stdout",
          "text": [
            "<class 'pandas.core.frame.DataFrame'>\n",
            "RangeIndex: 396487 entries, 0 to 396486\n",
            "Data columns (total 15 columns):\n",
            " #   Column                 Non-Null Count   Dtype  \n",
            "---  ------                 --------------   -----  \n",
            " 0   locationId             396487 non-null  int64  \n",
            " 1   location               396487 non-null  object \n",
            " 2   parameter              396487 non-null  object \n",
            " 3   value                  396487 non-null  float64\n",
            " 4   unit                   396487 non-null  object \n",
            " 5   country                396487 non-null  object \n",
            " 6   city                   0 non-null       object \n",
            " 7   isMobile               396487 non-null  bool   \n",
            " 8   isAnalysis             0 non-null       object \n",
            " 9   entity                 396487 non-null  object \n",
            " 10  sensorType             396487 non-null  object \n",
            " 11  date.utc               396487 non-null  object \n",
            " 12  date.local             396487 non-null  object \n",
            " 13  coordinates.latitude   396487 non-null  float64\n",
            " 14  coordinates.longitude  396487 non-null  float64\n",
            "dtypes: bool(1), float64(3), int64(1), object(10)\n",
            "memory usage: 42.7+ MB\n"
          ]
        }
      ]
    },
    {
      "cell_type": "markdown",
      "source": [
        "la siguiente línea ayuda para visualizar datos en null"
      ],
      "metadata": {
        "id": "WOJtgUHryW_l"
      }
    },
    {
      "cell_type": "code",
      "source": [
        "datos.isnull()"
      ],
      "metadata": {
        "colab": {
          "base_uri": "https://localhost:8080/",
          "height": 443
        },
        "id": "wBMVaQa4fuZM",
        "outputId": "916bc7f3-bb0f-487a-ea60-8db3a3efc55d"
      },
      "execution_count": 370,
      "outputs": [
        {
          "output_type": "execute_result",
          "data": {
            "text/plain": [
              "        locationId  location  parameter  value   unit  country  city  \\\n",
              "0            False     False      False  False  False    False  True   \n",
              "1            False     False      False  False  False    False  True   \n",
              "2            False     False      False  False  False    False  True   \n",
              "3            False     False      False  False  False    False  True   \n",
              "4            False     False      False  False  False    False  True   \n",
              "...            ...       ...        ...    ...    ...      ...   ...   \n",
              "396482       False     False      False  False  False    False  True   \n",
              "396483       False     False      False  False  False    False  True   \n",
              "396484       False     False      False  False  False    False  True   \n",
              "396485       False     False      False  False  False    False  True   \n",
              "396486       False     False      False  False  False    False  True   \n",
              "\n",
              "        isMobile  isAnalysis  entity  sensorType  date.utc  date.local  \\\n",
              "0          False        True   False       False     False       False   \n",
              "1          False        True   False       False     False       False   \n",
              "2          False        True   False       False     False       False   \n",
              "3          False        True   False       False     False       False   \n",
              "4          False        True   False       False     False       False   \n",
              "...          ...         ...     ...         ...       ...         ...   \n",
              "396482     False        True   False       False     False       False   \n",
              "396483     False        True   False       False     False       False   \n",
              "396484     False        True   False       False     False       False   \n",
              "396485     False        True   False       False     False       False   \n",
              "396486     False        True   False       False     False       False   \n",
              "\n",
              "        coordinates.latitude  coordinates.longitude  \n",
              "0                      False                  False  \n",
              "1                      False                  False  \n",
              "2                      False                  False  \n",
              "3                      False                  False  \n",
              "4                      False                  False  \n",
              "...                      ...                    ...  \n",
              "396482                 False                  False  \n",
              "396483                 False                  False  \n",
              "396484                 False                  False  \n",
              "396485                 False                  False  \n",
              "396486                 False                  False  \n",
              "\n",
              "[396487 rows x 15 columns]"
            ],
            "text/html": [
              "\n",
              "  <div id=\"df-83225f9a-bd66-41aa-a905-a4fd455edb53\" class=\"colab-df-container\">\n",
              "    <div>\n",
              "<style scoped>\n",
              "    .dataframe tbody tr th:only-of-type {\n",
              "        vertical-align: middle;\n",
              "    }\n",
              "\n",
              "    .dataframe tbody tr th {\n",
              "        vertical-align: top;\n",
              "    }\n",
              "\n",
              "    .dataframe thead th {\n",
              "        text-align: right;\n",
              "    }\n",
              "</style>\n",
              "<table border=\"1\" class=\"dataframe\">\n",
              "  <thead>\n",
              "    <tr style=\"text-align: right;\">\n",
              "      <th></th>\n",
              "      <th>locationId</th>\n",
              "      <th>location</th>\n",
              "      <th>parameter</th>\n",
              "      <th>value</th>\n",
              "      <th>unit</th>\n",
              "      <th>country</th>\n",
              "      <th>city</th>\n",
              "      <th>isMobile</th>\n",
              "      <th>isAnalysis</th>\n",
              "      <th>entity</th>\n",
              "      <th>sensorType</th>\n",
              "      <th>date.utc</th>\n",
              "      <th>date.local</th>\n",
              "      <th>coordinates.latitude</th>\n",
              "      <th>coordinates.longitude</th>\n",
              "    </tr>\n",
              "  </thead>\n",
              "  <tbody>\n",
              "    <tr>\n",
              "      <th>0</th>\n",
              "      <td>False</td>\n",
              "      <td>False</td>\n",
              "      <td>False</td>\n",
              "      <td>False</td>\n",
              "      <td>False</td>\n",
              "      <td>False</td>\n",
              "      <td>True</td>\n",
              "      <td>False</td>\n",
              "      <td>True</td>\n",
              "      <td>False</td>\n",
              "      <td>False</td>\n",
              "      <td>False</td>\n",
              "      <td>False</td>\n",
              "      <td>False</td>\n",
              "      <td>False</td>\n",
              "    </tr>\n",
              "    <tr>\n",
              "      <th>1</th>\n",
              "      <td>False</td>\n",
              "      <td>False</td>\n",
              "      <td>False</td>\n",
              "      <td>False</td>\n",
              "      <td>False</td>\n",
              "      <td>False</td>\n",
              "      <td>True</td>\n",
              "      <td>False</td>\n",
              "      <td>True</td>\n",
              "      <td>False</td>\n",
              "      <td>False</td>\n",
              "      <td>False</td>\n",
              "      <td>False</td>\n",
              "      <td>False</td>\n",
              "      <td>False</td>\n",
              "    </tr>\n",
              "    <tr>\n",
              "      <th>2</th>\n",
              "      <td>False</td>\n",
              "      <td>False</td>\n",
              "      <td>False</td>\n",
              "      <td>False</td>\n",
              "      <td>False</td>\n",
              "      <td>False</td>\n",
              "      <td>True</td>\n",
              "      <td>False</td>\n",
              "      <td>True</td>\n",
              "      <td>False</td>\n",
              "      <td>False</td>\n",
              "      <td>False</td>\n",
              "      <td>False</td>\n",
              "      <td>False</td>\n",
              "      <td>False</td>\n",
              "    </tr>\n",
              "    <tr>\n",
              "      <th>3</th>\n",
              "      <td>False</td>\n",
              "      <td>False</td>\n",
              "      <td>False</td>\n",
              "      <td>False</td>\n",
              "      <td>False</td>\n",
              "      <td>False</td>\n",
              "      <td>True</td>\n",
              "      <td>False</td>\n",
              "      <td>True</td>\n",
              "      <td>False</td>\n",
              "      <td>False</td>\n",
              "      <td>False</td>\n",
              "      <td>False</td>\n",
              "      <td>False</td>\n",
              "      <td>False</td>\n",
              "    </tr>\n",
              "    <tr>\n",
              "      <th>4</th>\n",
              "      <td>False</td>\n",
              "      <td>False</td>\n",
              "      <td>False</td>\n",
              "      <td>False</td>\n",
              "      <td>False</td>\n",
              "      <td>False</td>\n",
              "      <td>True</td>\n",
              "      <td>False</td>\n",
              "      <td>True</td>\n",
              "      <td>False</td>\n",
              "      <td>False</td>\n",
              "      <td>False</td>\n",
              "      <td>False</td>\n",
              "      <td>False</td>\n",
              "      <td>False</td>\n",
              "    </tr>\n",
              "    <tr>\n",
              "      <th>...</th>\n",
              "      <td>...</td>\n",
              "      <td>...</td>\n",
              "      <td>...</td>\n",
              "      <td>...</td>\n",
              "      <td>...</td>\n",
              "      <td>...</td>\n",
              "      <td>...</td>\n",
              "      <td>...</td>\n",
              "      <td>...</td>\n",
              "      <td>...</td>\n",
              "      <td>...</td>\n",
              "      <td>...</td>\n",
              "      <td>...</td>\n",
              "      <td>...</td>\n",
              "      <td>...</td>\n",
              "    </tr>\n",
              "    <tr>\n",
              "      <th>396482</th>\n",
              "      <td>False</td>\n",
              "      <td>False</td>\n",
              "      <td>False</td>\n",
              "      <td>False</td>\n",
              "      <td>False</td>\n",
              "      <td>False</td>\n",
              "      <td>True</td>\n",
              "      <td>False</td>\n",
              "      <td>True</td>\n",
              "      <td>False</td>\n",
              "      <td>False</td>\n",
              "      <td>False</td>\n",
              "      <td>False</td>\n",
              "      <td>False</td>\n",
              "      <td>False</td>\n",
              "    </tr>\n",
              "    <tr>\n",
              "      <th>396483</th>\n",
              "      <td>False</td>\n",
              "      <td>False</td>\n",
              "      <td>False</td>\n",
              "      <td>False</td>\n",
              "      <td>False</td>\n",
              "      <td>False</td>\n",
              "      <td>True</td>\n",
              "      <td>False</td>\n",
              "      <td>True</td>\n",
              "      <td>False</td>\n",
              "      <td>False</td>\n",
              "      <td>False</td>\n",
              "      <td>False</td>\n",
              "      <td>False</td>\n",
              "      <td>False</td>\n",
              "    </tr>\n",
              "    <tr>\n",
              "      <th>396484</th>\n",
              "      <td>False</td>\n",
              "      <td>False</td>\n",
              "      <td>False</td>\n",
              "      <td>False</td>\n",
              "      <td>False</td>\n",
              "      <td>False</td>\n",
              "      <td>True</td>\n",
              "      <td>False</td>\n",
              "      <td>True</td>\n",
              "      <td>False</td>\n",
              "      <td>False</td>\n",
              "      <td>False</td>\n",
              "      <td>False</td>\n",
              "      <td>False</td>\n",
              "      <td>False</td>\n",
              "    </tr>\n",
              "    <tr>\n",
              "      <th>396485</th>\n",
              "      <td>False</td>\n",
              "      <td>False</td>\n",
              "      <td>False</td>\n",
              "      <td>False</td>\n",
              "      <td>False</td>\n",
              "      <td>False</td>\n",
              "      <td>True</td>\n",
              "      <td>False</td>\n",
              "      <td>True</td>\n",
              "      <td>False</td>\n",
              "      <td>False</td>\n",
              "      <td>False</td>\n",
              "      <td>False</td>\n",
              "      <td>False</td>\n",
              "      <td>False</td>\n",
              "    </tr>\n",
              "    <tr>\n",
              "      <th>396486</th>\n",
              "      <td>False</td>\n",
              "      <td>False</td>\n",
              "      <td>False</td>\n",
              "      <td>False</td>\n",
              "      <td>False</td>\n",
              "      <td>False</td>\n",
              "      <td>True</td>\n",
              "      <td>False</td>\n",
              "      <td>True</td>\n",
              "      <td>False</td>\n",
              "      <td>False</td>\n",
              "      <td>False</td>\n",
              "      <td>False</td>\n",
              "      <td>False</td>\n",
              "      <td>False</td>\n",
              "    </tr>\n",
              "  </tbody>\n",
              "</table>\n",
              "<p>396487 rows × 15 columns</p>\n",
              "</div>\n",
              "    <div class=\"colab-df-buttons\">\n",
              "\n",
              "  <div class=\"colab-df-container\">\n",
              "    <button class=\"colab-df-convert\" onclick=\"convertToInteractive('df-83225f9a-bd66-41aa-a905-a4fd455edb53')\"\n",
              "            title=\"Convert this dataframe to an interactive table.\"\n",
              "            style=\"display:none;\">\n",
              "\n",
              "  <svg xmlns=\"http://www.w3.org/2000/svg\" height=\"24px\" viewBox=\"0 -960 960 960\">\n",
              "    <path d=\"M120-120v-720h720v720H120Zm60-500h600v-160H180v160Zm220 220h160v-160H400v160Zm0 220h160v-160H400v160ZM180-400h160v-160H180v160Zm440 0h160v-160H620v160ZM180-180h160v-160H180v160Zm440 0h160v-160H620v160Z\"/>\n",
              "  </svg>\n",
              "    </button>\n",
              "\n",
              "  <style>\n",
              "    .colab-df-container {\n",
              "      display:flex;\n",
              "      gap: 12px;\n",
              "    }\n",
              "\n",
              "    .colab-df-convert {\n",
              "      background-color: #E8F0FE;\n",
              "      border: none;\n",
              "      border-radius: 50%;\n",
              "      cursor: pointer;\n",
              "      display: none;\n",
              "      fill: #1967D2;\n",
              "      height: 32px;\n",
              "      padding: 0 0 0 0;\n",
              "      width: 32px;\n",
              "    }\n",
              "\n",
              "    .colab-df-convert:hover {\n",
              "      background-color: #E2EBFA;\n",
              "      box-shadow: 0px 1px 2px rgba(60, 64, 67, 0.3), 0px 1px 3px 1px rgba(60, 64, 67, 0.15);\n",
              "      fill: #174EA6;\n",
              "    }\n",
              "\n",
              "    .colab-df-buttons div {\n",
              "      margin-bottom: 4px;\n",
              "    }\n",
              "\n",
              "    [theme=dark] .colab-df-convert {\n",
              "      background-color: #3B4455;\n",
              "      fill: #D2E3FC;\n",
              "    }\n",
              "\n",
              "    [theme=dark] .colab-df-convert:hover {\n",
              "      background-color: #434B5C;\n",
              "      box-shadow: 0px 1px 3px 1px rgba(0, 0, 0, 0.15);\n",
              "      filter: drop-shadow(0px 1px 2px rgba(0, 0, 0, 0.3));\n",
              "      fill: #FFFFFF;\n",
              "    }\n",
              "  </style>\n",
              "\n",
              "    <script>\n",
              "      const buttonEl =\n",
              "        document.querySelector('#df-83225f9a-bd66-41aa-a905-a4fd455edb53 button.colab-df-convert');\n",
              "      buttonEl.style.display =\n",
              "        google.colab.kernel.accessAllowed ? 'block' : 'none';\n",
              "\n",
              "      async function convertToInteractive(key) {\n",
              "        const element = document.querySelector('#df-83225f9a-bd66-41aa-a905-a4fd455edb53');\n",
              "        const dataTable =\n",
              "          await google.colab.kernel.invokeFunction('convertToInteractive',\n",
              "                                                    [key], {});\n",
              "        if (!dataTable) return;\n",
              "\n",
              "        const docLinkHtml = 'Like what you see? Visit the ' +\n",
              "          '<a target=\"_blank\" href=https://colab.research.google.com/notebooks/data_table.ipynb>data table notebook</a>'\n",
              "          + ' to learn more about interactive tables.';\n",
              "        element.innerHTML = '';\n",
              "        dataTable['output_type'] = 'display_data';\n",
              "        await google.colab.output.renderOutput(dataTable, element);\n",
              "        const docLink = document.createElement('div');\n",
              "        docLink.innerHTML = docLinkHtml;\n",
              "        element.appendChild(docLink);\n",
              "      }\n",
              "    </script>\n",
              "  </div>\n",
              "\n",
              "\n",
              "<div id=\"df-2e051d4f-4f6b-4477-ab0a-39333accf05f\">\n",
              "  <button class=\"colab-df-quickchart\" onclick=\"quickchart('df-2e051d4f-4f6b-4477-ab0a-39333accf05f')\"\n",
              "            title=\"Suggest charts\"\n",
              "            style=\"display:none;\">\n",
              "\n",
              "<svg xmlns=\"http://www.w3.org/2000/svg\" height=\"24px\"viewBox=\"0 0 24 24\"\n",
              "     width=\"24px\">\n",
              "    <g>\n",
              "        <path d=\"M19 3H5c-1.1 0-2 .9-2 2v14c0 1.1.9 2 2 2h14c1.1 0 2-.9 2-2V5c0-1.1-.9-2-2-2zM9 17H7v-7h2v7zm4 0h-2V7h2v10zm4 0h-2v-4h2v4z\"/>\n",
              "    </g>\n",
              "</svg>\n",
              "  </button>\n",
              "\n",
              "<style>\n",
              "  .colab-df-quickchart {\n",
              "      --bg-color: #E8F0FE;\n",
              "      --fill-color: #1967D2;\n",
              "      --hover-bg-color: #E2EBFA;\n",
              "      --hover-fill-color: #174EA6;\n",
              "      --disabled-fill-color: #AAA;\n",
              "      --disabled-bg-color: #DDD;\n",
              "  }\n",
              "\n",
              "  [theme=dark] .colab-df-quickchart {\n",
              "      --bg-color: #3B4455;\n",
              "      --fill-color: #D2E3FC;\n",
              "      --hover-bg-color: #434B5C;\n",
              "      --hover-fill-color: #FFFFFF;\n",
              "      --disabled-bg-color: #3B4455;\n",
              "      --disabled-fill-color: #666;\n",
              "  }\n",
              "\n",
              "  .colab-df-quickchart {\n",
              "    background-color: var(--bg-color);\n",
              "    border: none;\n",
              "    border-radius: 50%;\n",
              "    cursor: pointer;\n",
              "    display: none;\n",
              "    fill: var(--fill-color);\n",
              "    height: 32px;\n",
              "    padding: 0;\n",
              "    width: 32px;\n",
              "  }\n",
              "\n",
              "  .colab-df-quickchart:hover {\n",
              "    background-color: var(--hover-bg-color);\n",
              "    box-shadow: 0 1px 2px rgba(60, 64, 67, 0.3), 0 1px 3px 1px rgba(60, 64, 67, 0.15);\n",
              "    fill: var(--button-hover-fill-color);\n",
              "  }\n",
              "\n",
              "  .colab-df-quickchart-complete:disabled,\n",
              "  .colab-df-quickchart-complete:disabled:hover {\n",
              "    background-color: var(--disabled-bg-color);\n",
              "    fill: var(--disabled-fill-color);\n",
              "    box-shadow: none;\n",
              "  }\n",
              "\n",
              "  .colab-df-spinner {\n",
              "    border: 2px solid var(--fill-color);\n",
              "    border-color: transparent;\n",
              "    border-bottom-color: var(--fill-color);\n",
              "    animation:\n",
              "      spin 1s steps(1) infinite;\n",
              "  }\n",
              "\n",
              "  @keyframes spin {\n",
              "    0% {\n",
              "      border-color: transparent;\n",
              "      border-bottom-color: var(--fill-color);\n",
              "      border-left-color: var(--fill-color);\n",
              "    }\n",
              "    20% {\n",
              "      border-color: transparent;\n",
              "      border-left-color: var(--fill-color);\n",
              "      border-top-color: var(--fill-color);\n",
              "    }\n",
              "    30% {\n",
              "      border-color: transparent;\n",
              "      border-left-color: var(--fill-color);\n",
              "      border-top-color: var(--fill-color);\n",
              "      border-right-color: var(--fill-color);\n",
              "    }\n",
              "    40% {\n",
              "      border-color: transparent;\n",
              "      border-right-color: var(--fill-color);\n",
              "      border-top-color: var(--fill-color);\n",
              "    }\n",
              "    60% {\n",
              "      border-color: transparent;\n",
              "      border-right-color: var(--fill-color);\n",
              "    }\n",
              "    80% {\n",
              "      border-color: transparent;\n",
              "      border-right-color: var(--fill-color);\n",
              "      border-bottom-color: var(--fill-color);\n",
              "    }\n",
              "    90% {\n",
              "      border-color: transparent;\n",
              "      border-bottom-color: var(--fill-color);\n",
              "    }\n",
              "  }\n",
              "</style>\n",
              "\n",
              "  <script>\n",
              "    async function quickchart(key) {\n",
              "      const quickchartButtonEl =\n",
              "        document.querySelector('#' + key + ' button');\n",
              "      quickchartButtonEl.disabled = true;  // To prevent multiple clicks.\n",
              "      quickchartButtonEl.classList.add('colab-df-spinner');\n",
              "      try {\n",
              "        const charts = await google.colab.kernel.invokeFunction(\n",
              "            'suggestCharts', [key], {});\n",
              "      } catch (error) {\n",
              "        console.error('Error during call to suggestCharts:', error);\n",
              "      }\n",
              "      quickchartButtonEl.classList.remove('colab-df-spinner');\n",
              "      quickchartButtonEl.classList.add('colab-df-quickchart-complete');\n",
              "    }\n",
              "    (() => {\n",
              "      let quickchartButtonEl =\n",
              "        document.querySelector('#df-2e051d4f-4f6b-4477-ab0a-39333accf05f button');\n",
              "      quickchartButtonEl.style.display =\n",
              "        google.colab.kernel.accessAllowed ? 'block' : 'none';\n",
              "    })();\n",
              "  </script>\n",
              "</div>\n",
              "\n",
              "    </div>\n",
              "  </div>\n"
            ],
            "application/vnd.google.colaboratory.intrinsic+json": {
              "type": "dataframe"
            }
          },
          "metadata": {},
          "execution_count": 370
        }
      ]
    },
    {
      "cell_type": "markdown",
      "source": [
        "La siguiente línea devuelve la cantidad de nulos"
      ],
      "metadata": {
        "id": "7J-8d-k8ye12"
      }
    },
    {
      "cell_type": "code",
      "source": [
        "datos.isnull().sum()"
      ],
      "metadata": {
        "colab": {
          "base_uri": "https://localhost:8080/",
          "height": 397
        },
        "id": "pSg53zqPfx06",
        "outputId": "93779604-b2ab-4cce-b1a2-92c343fbb441"
      },
      "execution_count": 395,
      "outputs": [
        {
          "output_type": "execute_result",
          "data": {
            "text/plain": [
              "locationId               0\n",
              "location                 0\n",
              "parameter                0\n",
              "value                    0\n",
              "unit                     0\n",
              "country                  0\n",
              "date.utc                 0\n",
              "date.local               0\n",
              "coordinates.latitude     0\n",
              "coordinates.longitude    0\n",
              "dtype: int64"
            ],
            "text/html": [
              "<div>\n",
              "<style scoped>\n",
              "    .dataframe tbody tr th:only-of-type {\n",
              "        vertical-align: middle;\n",
              "    }\n",
              "\n",
              "    .dataframe tbody tr th {\n",
              "        vertical-align: top;\n",
              "    }\n",
              "\n",
              "    .dataframe thead th {\n",
              "        text-align: right;\n",
              "    }\n",
              "</style>\n",
              "<table border=\"1\" class=\"dataframe\">\n",
              "  <thead>\n",
              "    <tr style=\"text-align: right;\">\n",
              "      <th></th>\n",
              "      <th>0</th>\n",
              "    </tr>\n",
              "  </thead>\n",
              "  <tbody>\n",
              "    <tr>\n",
              "      <th>locationId</th>\n",
              "      <td>0</td>\n",
              "    </tr>\n",
              "    <tr>\n",
              "      <th>location</th>\n",
              "      <td>0</td>\n",
              "    </tr>\n",
              "    <tr>\n",
              "      <th>parameter</th>\n",
              "      <td>0</td>\n",
              "    </tr>\n",
              "    <tr>\n",
              "      <th>value</th>\n",
              "      <td>0</td>\n",
              "    </tr>\n",
              "    <tr>\n",
              "      <th>unit</th>\n",
              "      <td>0</td>\n",
              "    </tr>\n",
              "    <tr>\n",
              "      <th>country</th>\n",
              "      <td>0</td>\n",
              "    </tr>\n",
              "    <tr>\n",
              "      <th>date.utc</th>\n",
              "      <td>0</td>\n",
              "    </tr>\n",
              "    <tr>\n",
              "      <th>date.local</th>\n",
              "      <td>0</td>\n",
              "    </tr>\n",
              "    <tr>\n",
              "      <th>coordinates.latitude</th>\n",
              "      <td>0</td>\n",
              "    </tr>\n",
              "    <tr>\n",
              "      <th>coordinates.longitude</th>\n",
              "      <td>0</td>\n",
              "    </tr>\n",
              "  </tbody>\n",
              "</table>\n",
              "</div><br><label><b>dtype:</b> int64</label>"
            ]
          },
          "metadata": {},
          "execution_count": 395
        }
      ]
    },
    {
      "cell_type": "markdown",
      "source": [
        "Esta porción de código lo que permite es identificar cuáles columnas se mantendrán para el análisis de los datos. Al ejecutar esta lógica se identifica que hay columnas con 0 subniveles, lo cual quiere decir que se pueden eliminar debido a que contienen solo datos nulos, y las que tienen solo 1 nivel constan de solo un mismo dato (repetido a lo largo de las filas) por lo que, para el análisis, no se hacen relevantes este tipo de columnas"
      ],
      "metadata": {
        "id": "YnbYNtHt-vyV"
      }
    },
    {
      "cell_type": "code",
      "source": [
        "#inicio deteccion de niveles\n",
        "cols_cat = datos.columns.tolist() # se capturan los nombres de las columnas del DF\n",
        "\n",
        "# se inicializa un array para capturar las columnas que se descartarán por poca relevancia\n",
        "col_descartadas = []\n",
        "\n",
        "#Con este fragmento de codigo nos damos cuanta cuantos subniveles tiene cada columna, esto nos ayuda a ver cuales son las variables finales para la data\n",
        "for col in cols_cat:\n",
        "  print(f'Columna {col}: {datos[col].nunique()} subniveles')\n",
        "\n",
        "  if(datos[col].nunique() <= 1):\n",
        "    col_descartadas.append(col)"
      ],
      "metadata": {
        "colab": {
          "base_uri": "https://localhost:8080/"
        },
        "id": "KQkMHrVN-sWS",
        "outputId": "d9242161-ab44-4489-b0f1-4d60b1601a23"
      },
      "execution_count": 372,
      "outputs": [
        {
          "output_type": "stream",
          "name": "stdout",
          "text": [
            "Columna locationId: 48 subniveles\n",
            "Columna location: 48 subniveles\n",
            "Columna parameter: 6 subniveles\n",
            "Columna value: 23002 subniveles\n",
            "Columna unit: 2 subniveles\n",
            "Columna country: 6 subniveles\n",
            "Columna city: 0 subniveles\n",
            "Columna isMobile: 1 subniveles\n",
            "Columna isAnalysis: 0 subniveles\n",
            "Columna entity: 1 subniveles\n",
            "Columna sensorType: 1 subniveles\n",
            "Columna date.utc: 70417 subniveles\n",
            "Columna date.local: 148812 subniveles\n",
            "Columna coordinates.latitude: 48 subniveles\n",
            "Columna coordinates.longitude: 48 subniveles\n"
          ]
        }
      ]
    },
    {
      "cell_type": "markdown",
      "source": [
        "Al haber detectado las columnas menos relevantes o que no serán útiles se eliminan para optimizar o reducir la carga de procesamiento al realizar el respectivo análisis o sus visualizaciones"
      ],
      "metadata": {
        "id": "hywad0VJA6EZ"
      }
    },
    {
      "cell_type": "code",
      "source": [
        "# luego de notar que las columnas city, isMobile, isAnalysis, entity, sensorType tienen 1 o 0 subniveles y se deciden eliminar de la data\n",
        "datos.drop(columns=col_descartadas, inplace=True) # Con inplace=True: modifica datos directamente, sin crea un dataframe nuevo"
      ],
      "metadata": {
        "id": "iXQL3ohr_Wab"
      },
      "execution_count": 373,
      "outputs": []
    },
    {
      "cell_type": "markdown",
      "source": [
        "La siguiente celda se utiliza para detectar cuántos duplicados hay en los datos y eliminarlos si se encuentran"
      ],
      "metadata": {
        "id": "vhpx1b4IFkKU"
      }
    },
    {
      "cell_type": "code",
      "source": [
        "# Inicio duplicados\n",
        "duplicados = datos.duplicated().sum() #contar datos duplicados\n",
        "\n",
        "#Elimina los duplicados si es que los hay\n",
        "if duplicados > 1:\n",
        "  print(f'Tamaño previo: {datos.shape}')\n",
        "  datos.drop_duplicates(inplace=True)\n",
        "  print(f'Tamaño posterior: {datos.shape}')\n",
        "else:\n",
        "  print('No hay filas duplicadas')"
      ],
      "metadata": {
        "colab": {
          "base_uri": "https://localhost:8080/"
        },
        "id": "Jx6CyOaRB5-Z",
        "outputId": "ecca566a-330f-483d-c2cc-550dc2d457ea"
      },
      "execution_count": 374,
      "outputs": [
        {
          "output_type": "stream",
          "name": "stdout",
          "text": [
            "No hay filas duplicadas\n"
          ]
        }
      ]
    },
    {
      "cell_type": "markdown",
      "source": [
        "Se eliminan los espacios para mantener un estandar y buenas prácticas de limpieza, ya que hay datos que pueden tener espacios que evitan el poder realizar un cruce de datos"
      ],
      "metadata": {
        "id": "r9F0ns6HGCEK"
      }
    },
    {
      "cell_type": "code",
      "source": [
        "# Eliminar espacios al principio y al final en todas las columnas de texto\n",
        "datos['location'] = datos['location'].str.strip()\n",
        "datos['parameter'] = datos['parameter'].str.strip()\n",
        "datos['unit'] = datos['unit'].str.strip()\n",
        "datos['country'] = datos['country'].str.strip()"
      ],
      "metadata": {
        "id": "LS-iERIxGCYd"
      },
      "execution_count": 375,
      "outputs": []
    },
    {
      "cell_type": "markdown",
      "source": [
        "En esta porción de código se visualizan los datos y se detecta que solo la variable *value* tiene datos muy bajos o muy altos (atípicos). El más repetido es el -999, el cual se entiende como un valor atípico"
      ],
      "metadata": {
        "id": "O8mturqLGSN7"
      }
    },
    {
      "cell_type": "code",
      "source": [
        "#revision de outliers en variables numericas\n",
        "cols_num = ['value', 'coordinates.latitude', 'coordinates.longitude']\n",
        "\n",
        "# Define la estructura del gráfico\n",
        "fig, ax = plt.subplots(nrows = len(cols_num), ncols = 1, figsize = (8,10))\n",
        "fig.subplots_adjust(hspace = 0.5) # Espacio entre gráficos\n",
        "\n",
        "for i, col in enumerate(cols_num):\n",
        "    sns.boxplot(x = col, data = datos, ax = ax[i]) # información para crear el gráfico\n",
        "    ax[i].set_title(f'Gráfico del parámetro: {col}') # Nombre del gráfico\n",
        "\n",
        "plt.show() # Muestra el gráfico"
      ],
      "metadata": {
        "colab": {
          "base_uri": "https://localhost:8080/",
          "height": 873
        },
        "id": "5Dn7bkSFGSfn",
        "outputId": "da75de58-88c9-4eab-a5f9-214db7cd0078"
      },
      "execution_count": 376,
      "outputs": [
        {
          "output_type": "display_data",
          "data": {
            "text/plain": [
              "<Figure size 800x1000 with 3 Axes>"
            ],
            "image/png": "[encoded data removed]"
          },
          "metadata": {}
        }
      ]
    },
    {
      "cell_type": "markdown",
      "source": [
        "Se realiza limpieza de outliers utilizando zscale"
      ],
      "metadata": {
        "id": "CfOEcpThVvaZ"
      }
    },
    {
      "cell_type": "code",
      "source": [
        "maximo_valor = datos.value.max()\n",
        "ultimo_valor = datos.value.min()\n",
        "print(f'Datos menor: {ultimo_valor}')\n",
        "print(f'Datos mayor: {maximo_valor}')"
      ],
      "metadata": {
        "colab": {
          "base_uri": "https://localhost:8080/"
        },
        "id": "PLGDFWNRV1jR",
        "outputId": "592bf172-f07a-4b98-a0a4-b8a5c31f051a"
      },
      "execution_count": 377,
      "outputs": [
        {
          "output_type": "stream",
          "name": "stdout",
          "text": [
            "Datos menor: -999.0\n",
            "Datos mayor: 1380.0\n"
          ]
        }
      ]
    },
    {
      "cell_type": "markdown",
      "source": [
        "Revisamos la cantidad de registros el dataframe antes de aplicar la función de limipeza del zscore"
      ],
      "metadata": {
        "id": "GMjQpcRuX7Qv"
      }
    },
    {
      "cell_type": "code",
      "source": [
        "num_filas = datos.shape[0]\n",
        "print(f'Cantidad de filas: {num_filas}')"
      ],
      "metadata": {
        "colab": {
          "base_uri": "https://localhost:8080/"
        },
        "id": "VNvu5MDrX5pd",
        "outputId": "db6be891-a9ca-4865-fa69-c6af2834ca3e"
      },
      "execution_count": 378,
      "outputs": [
        {
          "output_type": "stream",
          "name": "stdout",
          "text": [
            "Cantidad de filas: 396487\n"
          ]
        }
      ]
    },
    {
      "cell_type": "markdown",
      "source": [
        "Se utiliza el método quantile para eliminar los outliners"
      ],
      "metadata": {
        "id": "dT1pM8aFV6SR"
      }
    },
    {
      "cell_type": "code",
      "source": [
        "##########\n",
        "# Calcular los cuartiles\n",
        "Q1 = datos['value'].quantile(0.25)\n",
        "Q3 = datos['value'].quantile(0.75)\n",
        "IQR = Q3 - Q1\n",
        "\n",
        "# Definir límites\n",
        "limite_inferior = Q1 - 1.5 * IQR\n",
        "limite_superior = Q3 + 1.5 * IQR\n",
        "\n",
        "# Filtrar los outliers\n",
        "datos = datos[(datos['value'] >= limite_inferior) & (datos['value'] <= limite_superior)]\n",
        "###############"
      ],
      "metadata": {
        "id": "qH_Y03Ahko7X"
      },
      "execution_count": 380,
      "outputs": []
    },
    {
      "cell_type": "markdown",
      "source": [
        "Se revisa la cantidad de registros después de aplicado el zscore"
      ],
      "metadata": {
        "id": "8YaZnEwCWDmj"
      }
    },
    {
      "cell_type": "code",
      "source": [
        "num_filas = datos.shape[0]\n",
        "print(f'Cantidad de filas: {num_filas}')"
      ],
      "metadata": {
        "colab": {
          "base_uri": "https://localhost:8080/"
        },
        "id": "u321Y-nXWD0F",
        "outputId": "e26f7629-a6aa-48ac-d5c7-25db1597073f"
      },
      "execution_count": 381,
      "outputs": [
        {
          "output_type": "stream",
          "name": "stdout",
          "text": [
            "Cantidad de filas: 346463\n"
          ]
        }
      ]
    },
    {
      "cell_type": "markdown",
      "source": [
        "Se limpian las variables con tipos de datos no acordes a lo esperado, se obtiene los tipos con .info() para saber cuales se deben cambiar"
      ],
      "metadata": {
        "id": "O6n06MvbYUGE"
      }
    },
    {
      "cell_type": "code",
      "source": [
        "datos['date.utc'] = pd.to_datetime(datos['date.utc'], utc=True)\n",
        "datos['date.local'] = pd.to_datetime(datos['date.local'], errors='coerce')\n",
        "datos.info() # verificar cambios de variables"
      ],
      "metadata": {
        "colab": {
          "base_uri": "https://localhost:8080/"
        },
        "id": "XNM9MnPxYwoE",
        "outputId": "cec435b0-68ce-4613-c707-accea75bd5c8"
      },
      "execution_count": 382,
      "outputs": [
        {
          "output_type": "stream",
          "name": "stderr",
          "text": [
            "<ipython-input-382-6f99010abd86>:2: FutureWarning: In a future version of pandas, parsing datetimes with mixed time zones will raise an error unless `utc=True`. Please specify `utc=True` to opt in to the new behaviour and silence this warning. To create a `Series` with mixed offsets and `object` dtype, please use `apply` and `datetime.datetime.strptime`\n",
            "  datos['date.local'] = pd.to_datetime(datos['date.local'], errors='coerce')\n"
          ]
        },
        {
          "output_type": "stream",
          "name": "stdout",
          "text": [
            "<class 'pandas.core.frame.DataFrame'>\n",
            "Index: 346463 entries, 5673 to 396486\n",
            "Data columns (total 10 columns):\n",
            " #   Column                 Non-Null Count   Dtype              \n",
            "---  ------                 --------------   -----              \n",
            " 0   locationId             346463 non-null  int64              \n",
            " 1   location               346463 non-null  object             \n",
            " 2   parameter              346463 non-null  object             \n",
            " 3   value                  346463 non-null  float64            \n",
            " 4   unit                   346463 non-null  object             \n",
            " 5   country                346463 non-null  object             \n",
            " 6   date.utc               346463 non-null  datetime64[ns, UTC]\n",
            " 7   date.local             346463 non-null  object             \n",
            " 8   coordinates.latitude   346463 non-null  float64            \n",
            " 9   coordinates.longitude  346463 non-null  float64            \n",
            "dtypes: datetime64[ns, UTC](1), float64(3), int64(1), object(5)\n",
            "memory usage: 29.1+ MB\n"
          ]
        }
      ]
    },
    {
      "cell_type": "markdown",
      "source": [
        "Se vuelven a graficar los datos para ver la diferencia al eliminar los outliers"
      ],
      "metadata": {
        "id": "t_CPh75WcZvq"
      }
    },
    {
      "cell_type": "code",
      "source": [
        "#revision de outliers en variables numericas\n",
        "cols_num = ['value', 'coordinates.latitude', 'coordinates.longitude']\n",
        "\n",
        "# Define la estructura del gráfico\n",
        "fig, ax = plt.subplots(nrows = len(cols_num), ncols = 1, figsize = (8,10))\n",
        "fig.subplots_adjust(hspace = 0.5) # Espacio entre gráficos\n",
        "\n",
        "for i, col in enumerate(cols_num):\n",
        "    sns.boxplot(x = col, data = datos, ax = ax[i]) # información para crear el gráfico\n",
        "    ax[i].set_title(f'Gráfico del parámetro: {col}') # Nombre del gráfico\n",
        "\n",
        "plt.show() # Muestra el gráfico"
      ],
      "metadata": {
        "colab": {
          "base_uri": "https://localhost:8080/",
          "height": 873
        },
        "id": "1PuQrwWpcaHj",
        "outputId": "356c4198-f8d9-4f99-dd41-85954f311035"
      },
      "execution_count": 383,
      "outputs": [
        {
          "output_type": "display_data",
          "data": {
            "text/plain": [
              "<Figure size 800x1000 with 3 Axes>"
            ],
            "image/png": "[encoded data removed]"
          },
          "metadata": {}
        }
      ]
    },
    {
      "cell_type": "markdown",
      "source": [
        "La siguiente porción de código se utiliza para identificar outliers en las columnas de tipo categoría. Esto con el fin de detectar, por ejemplo: mayúsculas, minúscualas, tildes dentro de las mismas categorías. Además, se grafican los parámetros de categorías con el fin de identicar si hay algún dato que necesita ser unificado, por nombre con mayúsculas o minúsculas"
      ],
      "metadata": {
        "id": "gEjpkJMYoJTB"
      }
    },
    {
      "cell_type": "code",
      "source": [
        "# Graficar los subniveles de cada variable categórica para identificar outliers\n",
        "# Lista de columnas categóricas\n",
        "cols_cat = ['location', 'parameter', 'unit', 'country']\n",
        "\n",
        "# Crear figura y ejes\n",
        "fig, ax = plt.subplots(nrows=len(cols_cat), ncols=1, figsize=(10, 10 * len(cols_cat)))\n",
        "fig.subplots_adjust(hspace=0.25)  # Ajustar espacio entre subplots\n",
        "\n",
        "# Iterar por cada columna categórica\n",
        "for i, col in enumerate(cols_cat):\n",
        "    sns.countplot(y=col, data=datos, ax=ax[i], hue=col, palette='Set2')\n",
        "    ax[i].set_title(f'Gráfico del parámetro: {col}')\n",
        "\n",
        "    # Usar plt.xticks() para rotar etiquetas sin problemas de locators\n",
        "    ax[i].tick_params(axis='y', rotation=0)\n",
        "\n",
        "# Mostrar el gráfico\n",
        "plt.show()"
      ],
      "metadata": {
        "colab": {
          "base_uri": "https://localhost:8080/",
          "height": 1000
        },
        "id": "o8AiK3185fR8",
        "outputId": "f5d25a5a-0599-485a-9401-3a6ac61543b0"
      },
      "execution_count": 394,
      "outputs": [
        {
          "output_type": "display_data",
          "data": {
            "text/plain": [
              "<Figure size 1000x4000 with 4 Axes>"
            ],
            "image/png": "[encoded data removed]"
          },
          "metadata": {}
        }
      ]
    },
    {
      "cell_type": "markdown",
      "source": [
        "Luego de evaluar errores tipográficos en variables categóricas no se detectaron valores atípicos, en la data. Aunque se implementó un estandar de utilizar todos los datos en mayúsculas de los datos, con el fin de graficar con mayor facilidad"
      ],
      "metadata": {
        "id": "noVPui1jokaR"
      }
    },
    {
      "cell_type": "code",
      "source": [
        "# Se aplica upper para que todos los valores tengan un estandar\n",
        "datos['location'] = datos['location'].str.upper()\n",
        "datos['parameter'] = datos['parameter'].str.upper()\n",
        "datos['unit'] = datos['unit'].str.upper()\n",
        "datos['country'] = datos['country'].str.upper()\n",
        "\n",
        "datos.head()"
      ],
      "metadata": {
        "id": "6HjaJIicokuc"
      },
      "execution_count": null,
      "outputs": []
    },
    {
      "cell_type": "markdown",
      "source": [
        "## Análisis EDA luego de limpieza"
      ],
      "metadata": {
        "id": "P9TLZzBXtUIG"
      }
    },
    {
      "cell_type": "markdown",
      "source": [
        "En la limpieza y transformación de datos se fueron realizando ciertos pasos los cuales se implementaron pensando en el análisis EDA. Dado que al ir haciendo la limpieza se fueron analizando los datos de forma sistemática y esto ayudó a generar el propio análisis. A continuación se presenta de forma seccionada un resumen para Explorar, Resumir y Visualizar los datos que se están tratando con el fin de Comprender estructura, detectar patrones, detectar outliers y formular hipótesis"
      ],
      "metadata": {
        "id": "5gsiMBoNtZvH"
      }
    },
    {
      "cell_type": "markdown",
      "source": [
        "### Entender la estructura de los datos"
      ],
      "metadata": {
        "id": "rBHYKzsmxkO2"
      }
    },
    {
      "cell_type": "markdown",
      "source": [
        "### Distribución de las variables"
      ],
      "metadata": {
        "id": "umWtpNHTwLg8"
      }
    },
    {
      "cell_type": "markdown",
      "source": [
        "### Detección de valores atípicos (outliers)"
      ],
      "metadata": {
        "id": "R9s7jcKowgt3"
      }
    },
    {
      "cell_type": "markdown",
      "source": [
        "### Detección de valores faltantes"
      ],
      "metadata": {
        "id": "lp3Cyg7swlL5"
      }
    },
    {
      "cell_type": "markdown",
      "source": [
        "### Relación entre variables"
      ],
      "metadata": {
        "id": "FuTLemntwsqs"
      }
    },
    {
      "cell_type": "markdown",
      "source": [
        "### Supuestos encontrados"
      ],
      "metadata": {
        "id": "NmlYEzq7wxsU"
      }
    },
    {
      "cell_type": "markdown",
      "source": [
        "## Comparativa y Visualización de datos"
      ],
      "metadata": {
        "id": "xSkKWremwzTq"
      }
    },
    {
      "cell_type": "code",
      "source": [
        "import seaborn as sns\n",
        "\n",
        "\n",
        "# Convertir la columna de fechas en formato datetime\n",
        "datos['date.utc'] = pd.to_datetime(datos['date.utc'])#ya se hizo esa transformación\n",
        "\n",
        "\n",
        "# Agrupa los datos por país, ciudad, y parámetro\n",
        "datos_agrupados = datos.groupby(['country', 'location', 'parameter', datos['date.utc'].dt.date]).mean().reset_index()\n"
      ],
      "metadata": {
        "colab": {
          "base_uri": "https://localhost:8080/",
          "height": 200
        },
        "id": "m5dCk7Xisy2b",
        "outputId": "3fbf9d62-96d5-4f7b-b5f1-10a77ca033e0"
      },
      "execution_count": null,
      "outputs": [
        {
          "output_type": "error",
          "ename": "NameError",
          "evalue": "name 'pd' is not defined",
          "traceback": [
            "\u001b[0;31m---------------------------------------------------------------------------\u001b[0m",
            "\u001b[0;31mNameError\u001b[0m                                 Traceback (most recent call last)",
            "\u001b[0;32m<ipython-input-2-7e2fd5dd024c>\u001b[0m in \u001b[0;36m<cell line: 1>\u001b[0;34m()\u001b[0m\n\u001b[0;32m----> 1\u001b[0;31m \u001b[0mdatos\u001b[0m\u001b[0;34m[\u001b[0m\u001b[0;34m'date.utc'\u001b[0m\u001b[0;34m]\u001b[0m \u001b[0;34m=\u001b[0m \u001b[0mpd\u001b[0m\u001b[0;34m.\u001b[0m\u001b[0mto_datetime\u001b[0m\u001b[0;34m(\u001b[0m\u001b[0mdatos\u001b[0m\u001b[0;34m[\u001b[0m\u001b[0;34m'date.utc'\u001b[0m\u001b[0;34m]\u001b[0m\u001b[0;34m)\u001b[0m\u001b[0;34m\u001b[0m\u001b[0;34m\u001b[0m\u001b[0m\n\u001b[0m\u001b[1;32m      2\u001b[0m \u001b[0;34m\u001b[0m\u001b[0m\n\u001b[1;32m      3\u001b[0m \u001b[0;31m# Agrupa los datos por país, ciudad, y parámetro\u001b[0m\u001b[0;34m\u001b[0m\u001b[0;34m\u001b[0m\u001b[0m\n\u001b[1;32m      4\u001b[0m \u001b[0mdatos_agrupados\u001b[0m \u001b[0;34m=\u001b[0m \u001b[0mdatos\u001b[0m\u001b[0;34m.\u001b[0m\u001b[0mgroupby\u001b[0m\u001b[0;34m(\u001b[0m\u001b[0;34m[\u001b[0m\u001b[0;34m'country'\u001b[0m\u001b[0;34m,\u001b[0m \u001b[0;34m'location'\u001b[0m\u001b[0;34m,\u001b[0m \u001b[0;34m'parameter'\u001b[0m\u001b[0;34m,\u001b[0m \u001b[0mdatos\u001b[0m\u001b[0;34m[\u001b[0m\u001b[0;34m'date.utc'\u001b[0m\u001b[0;34m]\u001b[0m\u001b[0;34m.\u001b[0m\u001b[0mdt\u001b[0m\u001b[0;34m.\u001b[0m\u001b[0mdate\u001b[0m\u001b[0;34m]\u001b[0m\u001b[0;34m)\u001b[0m\u001b[0;34m.\u001b[0m\u001b[0mmean\u001b[0m\u001b[0;34m(\u001b[0m\u001b[0;34m)\u001b[0m\u001b[0;34m.\u001b[0m\u001b[0mreset_index\u001b[0m\u001b[0;34m(\u001b[0m\u001b[0;34m)\u001b[0m\u001b[0;34m\u001b[0m\u001b[0;34m\u001b[0m\u001b[0m\n",
            "\u001b[0;31mNameError\u001b[0m: name 'pd' is not defined"
          ]
        }
      ]
    },
    {
      "cell_type": "markdown",
      "source": [
        "###Análisis de tendencia###"
      ],
      "metadata": {
        "id": "QovdGoNVMiGh"
      }
    },
    {
      "cell_type": "code",
      "source": [
        "# Filtrar los datos de un parámetro \"pm25\"\n",
        "parameter = 'pm25'\n",
        "datos_filtrados = datos_agrupados[datos_agrupados['parameter'] == parameter]\n",
        "\n",
        "# Crea una gráfica de línea para cada país\n",
        "plt.figure(figsize=(12, 6))\n",
        "sns.lineplot(x='date.utc', y='value', hue='country', data=datos_filtrados)\n",
        "plt.title(f'Tendencia de {parameter} en diferentes países')\n",
        "plt.xlabel('Fecha')\n",
        "plt.ylabel('Valor')\n",
        "plt.legend(title='País')\n",
        "plt.show()"
      ],
      "metadata": {
        "colab": {
          "base_uri": "https://localhost:8080/",
          "height": 219
        },
        "id": "REGVODqQMJ6Z",
        "outputId": "685182df-bb96-449f-dd5c-df00bac71ee1"
      },
      "execution_count": null,
      "outputs": [
        {
          "output_type": "error",
          "ename": "NameError",
          "evalue": "name 'datos_agrupados' is not defined",
          "traceback": [
            "\u001b[0;31m---------------------------------------------------------------------------\u001b[0m",
            "\u001b[0;31mNameError\u001b[0m                                 Traceback (most recent call last)",
            "\u001b[0;32m<ipython-input-3-12fb209d7151>\u001b[0m in \u001b[0;36m<cell line: 2>\u001b[0;34m()\u001b[0m\n\u001b[1;32m      1\u001b[0m \u001b[0mparameter\u001b[0m \u001b[0;34m=\u001b[0m \u001b[0;34m'pm25'\u001b[0m\u001b[0;34m\u001b[0m\u001b[0;34m\u001b[0m\u001b[0m\n\u001b[0;32m----> 2\u001b[0;31m \u001b[0mdatos_agrupados\u001b[0m \u001b[0;34m=\u001b[0m \u001b[0mdatos_agrupados\u001b[0m\u001b[0;34m[\u001b[0m\u001b[0mdatos_agrupados\u001b[0m\u001b[0;34m[\u001b[0m\u001b[0;34m'parameter'\u001b[0m\u001b[0;34m]\u001b[0m \u001b[0;34m==\u001b[0m \u001b[0mparameter\u001b[0m\u001b[0;34m]\u001b[0m\u001b[0;34m\u001b[0m\u001b[0;34m\u001b[0m\u001b[0m\n\u001b[0m\u001b[1;32m      3\u001b[0m \u001b[0;34m\u001b[0m\u001b[0m\n\u001b[1;32m      4\u001b[0m \u001b[0;31m# Crea una gráfica de línea para cada país\u001b[0m\u001b[0;34m\u001b[0m\u001b[0;34m\u001b[0m\u001b[0m\n\u001b[1;32m      5\u001b[0m \u001b[0mplt\u001b[0m\u001b[0;34m.\u001b[0m\u001b[0mfigure\u001b[0m\u001b[0;34m(\u001b[0m\u001b[0mfigsize\u001b[0m\u001b[0;34m=\u001b[0m\u001b[0;34m(\u001b[0m\u001b[0;36m12\u001b[0m\u001b[0;34m,\u001b[0m \u001b[0;36m6\u001b[0m\u001b[0;34m)\u001b[0m\u001b[0;34m)\u001b[0m\u001b[0;34m\u001b[0m\u001b[0;34m\u001b[0m\u001b[0m\n",
            "\u001b[0;31mNameError\u001b[0m: name 'datos_agrupados' is not defined"
          ]
        }
      ]
    },
    {
      "cell_type": "markdown",
      "source": [
        "###Comparación entre países y ciudades###"
      ],
      "metadata": {
        "id": "GFmYBdCONW2C"
      }
    },
    {
      "cell_type": "code",
      "source": [
        "# Filtrar para un parámetro \"pm25\" y compara entre países\n",
        "datos_comparacion = datos_agrupados[datos_agrupados['parameter'] == 'pm25']\n",
        "\n",
        "# Comparación de la media del parámetro por país\n",
        "datos_comparacion_media = datos_comparacion.groupby('country')['value'].mean().reset_index()\n",
        "\n",
        "# Barplot de comparación entre países\n",
        "plt.figure(figsize=(10, 6))\n",
        "sns.barplot(x='country', y='value', data=datos_comparacion_media)\n",
        "plt.title('Comparación de la media de PM2.5 por país')\n",
        "plt.ylabel('PM2.5')\n",
        "plt.show()"
      ],
      "metadata": {
        "id": "EFyymPR_Na0b"
      },
      "execution_count": null,
      "outputs": []
    },
    {
      "cell_type": "markdown",
      "source": [
        "## Conclusiones"
      ],
      "metadata": {
        "id": "79C4s9Ohdhfs"
      }
    },
    {
      "cell_type": "markdown",
      "source": [
        "# Referencias"
      ],
      "metadata": {
        "id": "xxbFpED_rvFq"
      }
    },
    {
      "cell_type": "markdown",
      "source": [
        "https://docs.openaq.org/docs/introduction\n",
        "\n",
        "https://www.kaggle.com/code/rcurioso/limpeza-datos-python-pandas\n",
        "\n",
        "https://medium.com/nowports-tech/guia-limpiar-datos-con-pandas-3dc634c47e11\n",
        "\n",
        "https://pypi.org/project/requests/2.16.0/\n",
        "\n",
        "https://docs.python.org/3/library/urllib.parse.html"
      ],
      "metadata": {
        "id": "tKPA7otPrxiL"
      }
    },
    {
      "cell_type": "code",
      "source": [],
      "metadata": {
        "id": "HOUXtbcWr1HF"
      },
      "execution_count": null,
      "outputs": []
    }
  ]
}