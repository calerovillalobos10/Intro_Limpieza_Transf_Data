{
  "nbformat": 4,
  "nbformat_minor": 0,
  "metadata": {
    "colab": {
      "provenance": [],
      "authorship_tag": "ABX9TyPu5NJpGifxGW2L1r8sfQu7",
      "include_colab_link": true
    },
    "kernelspec": {
      "name": "python3",
      "display_name": "Python 3"
    },
    "language_info": {
      "name": "python"
    }
  },
  "cells": [
    {
      "cell_type": "markdown",
      "metadata": {
        "id": "view-in-github",
        "colab_type": "text"
      },
      "source": [
        "<a href=\"https://colab.research.google.com/github/calerovillalobos10/Intro_Limpieza_Transf_Data/blob/main/Lab2_PF3347.ipynb\" target=\"_parent\"><img src=\"https://colab.research.google.com/assets/colab-badge.svg\" alt=\"Open In Colab\"/></a>"
      ]
    },
    {
      "cell_type": "markdown",
      "source": [
        "# Lab 2 Limpieza y Transformación de Datos"
      ],
      "metadata": {
        "id": "SoVuDLtrwD84"
      }
    },
    {
      "cell_type": "markdown",
      "source": [
        "## Estudiantes\n",
        "\n",
        "*   Bryan Thomas Calero Villalobos\n",
        "*   Daniela Montero Parkinson\n",
        "*   Christopher Zúñiga Cárdenas"
      ],
      "metadata": {
        "id": "c5k1uDvCwNC9"
      }
    },
    {
      "cell_type": "markdown",
      "source": [
        "# Uso práctico"
      ],
      "metadata": {
        "id": "4L04dn-8wXYH"
      }
    },
    {
      "cell_type": "markdown",
      "source": [
        "## Extracción de datos"
      ],
      "metadata": {
        "id": "NlZnlBFzwsdn"
      }
    },
    {
      "cell_type": "markdown",
      "source": [
        "Se ingresa a la página de [OpenQA](https://openaq.org/) para consumir el API que nos da la documentación, en este caso se utilizará para el trabajo el API V3. En la documentación del api se indica registrarse en [Registro](https://explore.openaq.org/register) e ir al apartado de *cuenta*, con el fin de capturar el API KEY necesario para consumir el API."
      ],
      "metadata": {
        "id": "lOxXXWsgw4V3"
      }
    },
    {
      "cell_type": "markdown",
      "source": [
        "Como primer paso se instalan las librerías necesarias para poder consumir el API mencionado y capturar las variables de entorno"
      ],
      "metadata": {
        "id": "UmwPnGEy_VgK"
      }
    },
    {
      "cell_type": "code",
      "source": [
        "# Instalar las librerías necesarias\n",
        "!pip3 install requests\n",
        "!pip3 install python-dotenv"
      ],
      "metadata": {
        "colab": {
          "base_uri": "https://localhost:8080/"
        },
        "id": "kMaRrVAUw4jg",
        "outputId": "51bfb7da-c4f5-418d-efa6-791878cf68ec"
      },
      "execution_count": 1,
      "outputs": [
        {
          "output_type": "stream",
          "name": "stdout",
          "text": [
            "Requirement already satisfied: requests in /usr/local/lib/python3.10/dist-packages (2.32.3)\n",
            "Requirement already satisfied: charset-normalizer<4,>=2 in /usr/local/lib/python3.10/dist-packages (from requests) (3.3.2)\n",
            "Requirement already satisfied: idna<4,>=2.5 in /usr/local/lib/python3.10/dist-packages (from requests) (3.8)\n",
            "Requirement already satisfied: urllib3<3,>=1.21.1 in /usr/local/lib/python3.10/dist-packages (from requests) (2.0.7)\n",
            "Requirement already satisfied: certifi>=2017.4.17 in /usr/local/lib/python3.10/dist-packages (from requests) (2024.8.30)\n",
            "Collecting python-dotenv\n",
            "  Downloading python_dotenv-1.0.1-py3-none-any.whl.metadata (23 kB)\n",
            "Downloading python_dotenv-1.0.1-py3-none-any.whl (19 kB)\n",
            "Installing collected packages: python-dotenv\n",
            "Successfully installed python-dotenv-1.0.1\n"
          ]
        }
      ]
    },
    {
      "cell_type": "markdown",
      "source": [
        "Se importan las librerías para poder utilizarlas en los métodos definidos"
      ],
      "metadata": {
        "id": "oK9IJQSt-NAs"
      }
    },
    {
      "cell_type": "code",
      "source": [
        "import requests\n",
        "import os\n",
        "from dotenv import load_dotenv\n",
        "from requests.adapters import HTTPAdapter\n",
        "from requests.packages.urllib3.util.retry import Retry\n",
        "from urllib.parse import urlencode\n",
        "from datetime import datetime"
      ],
      "metadata": {
        "id": "bI3-qosq-UNG"
      },
      "execution_count": 2,
      "outputs": []
    },
    {
      "cell_type": "markdown",
      "source": [
        "Se descargar el archivo del .env que se encuentra en drive"
      ],
      "metadata": {
        "id": "CnL00-jlOKsv"
      }
    },
    {
      "cell_type": "code",
      "source": [
        "!wget --no-check-certificate 'https://drive.google.com/uc?export=download&id=1JrTQmCwUWuru9BJFCwuG25_aIT1uN4XR' -O .env"
      ],
      "metadata": {
        "colab": {
          "base_uri": "https://localhost:8080/"
        },
        "id": "5LjPNqaNOR_a",
        "outputId": "f84524a4-7b57-43da-e8cb-b4e60324a17a"
      },
      "execution_count": 3,
      "outputs": [
        {
          "output_type": "stream",
          "name": "stdout",
          "text": [
            "--2024-09-16 01:19:57--  https://drive.google.com/uc?export=download&id=1JrTQmCwUWuru9BJFCwuG25_aIT1uN4XR\n",
            "Resolving drive.google.com (drive.google.com)... 142.251.2.139, 142.251.2.101, 142.251.2.138, ...\n",
            "Connecting to drive.google.com (drive.google.com)|142.251.2.139|:443... connected.\n",
            "HTTP request sent, awaiting response... 303 See Other\n",
            "Location: https://drive.usercontent.google.com/download?id=1JrTQmCwUWuru9BJFCwuG25_aIT1uN4XR&export=download [following]\n",
            "--2024-09-16 01:19:57--  https://drive.usercontent.google.com/download?id=1JrTQmCwUWuru9BJFCwuG25_aIT1uN4XR&export=download\n",
            "Resolving drive.usercontent.google.com (drive.usercontent.google.com)... 142.250.101.132, 2607:f8b0:4023:c06::84\n",
            "Connecting to drive.usercontent.google.com (drive.usercontent.google.com)|142.250.101.132|:443... connected.\n",
            "HTTP request sent, awaiting response... 200 OK\n",
            "Length: 79 [application/octet-stream]\n",
            "Saving to: ‘.env’\n",
            "\n",
            ".env                100%[===================>]      79  --.-KB/s    in 0s      \n",
            "\n",
            "2024-09-16 01:20:00 (2.77 MB/s) - ‘.env’ saved [79/79]\n",
            "\n"
          ]
        }
      ]
    },
    {
      "cell_type": "markdown",
      "source": [
        "Obtener el api key para consumir la información del sitio Open AQ"
      ],
      "metadata": {
        "id": "_7u78KRvSM_q"
      }
    },
    {
      "cell_type": "code",
      "source": [
        "load_dotenv('.env') # Cargar el archivo .env descargado\n",
        "API_KEY = os.getenv('KEY_OpenAQ') # Obtener el API KEY de la variable de entorno"
      ],
      "metadata": {
        "id": "HSJn2eUrSNMD"
      },
      "execution_count": 48,
      "outputs": []
    },
    {
      "cell_type": "markdown",
      "source": [
        "Se inicializa una variable con la url a consumir"
      ],
      "metadata": {
        "id": "YgYLZEgqTC54"
      }
    },
    {
      "cell_type": "code",
      "source": [
        "api_url = f'https://api.openaq.org/v2/measurements'"
      ],
      "metadata": {
        "id": "ee-IPULhTGsU"
      },
      "execution_count": 49,
      "outputs": []
    },
    {
      "cell_type": "markdown",
      "source": [
        "Se definen los parámetros que se enviarán al enpoint y mediante este método se construye la url final a consumir"
      ],
      "metadata": {
        "id": "PA-u_e1PW0mr"
      }
    },
    {
      "cell_type": "code",
      "source": [
        "# Construye la URL con los parámetros necesarios\n",
        "def build_url(country, start_date, end_date, page, limit):\n",
        "  # Parámetros para la solicitud: país, fechas y página actual\n",
        "  params = {\n",
        "    'date_from': start_date,\n",
        "    'date_to': end_date,\n",
        "    'limit': limit,  # Ajusta el límite según lo necesario\n",
        "    'page': page,\n",
        "    'country': country,\n",
        "    'sort': 'desc',\n",
        "    'order_by': 'datetime'\n",
        "  }\n",
        "\n",
        "  return f\"{api_url}?{urlencode(params)}\""
      ],
      "metadata": {
        "id": "F4rR0E6OVnom"
      },
      "execution_count": 50,
      "outputs": []
    },
    {
      "cell_type": "markdown",
      "source": [
        "Este método se implementó para solucionar el problema Request Time-out que arroja el api, dado a la cantidad de información que trae. Se funcionalidad es crear una sesión HTTP que aplica reintentos automáticos cuando se producen errores temporales o de conexión en solicitudes GET"
      ],
      "metadata": {
        "id": "VMLZqvFQGJuM"
      }
    },
    {
      "cell_type": "code",
      "source": [
        "# Método para crear la estrategia de reintentos\n",
        "def create_retry_session(max_retries):\n",
        "    retry_strategy = Retry(\n",
        "        total=max_retries,  # Número máximo de reintentos\n",
        "        status_forcelist=[408, 500, 502, 503, 504],  # Errores a los que se aplicarán los reintentos\n",
        "        allowed_methods=[\"GET\"],  # Solo reintentar en solicitudes GET\n",
        "        backoff_factor=1  # Tiempo de espera entre reintentos\n",
        "    )\n",
        "    adapter = HTTPAdapter(max_retries=retry_strategy)\n",
        "\n",
        "    # Crear una sesión de requests con el adaptador de reintentos\n",
        "    http = requests.Session()\n",
        "    http.mount(\"https://\", adapter)\n",
        "\n",
        "    return http  # Devolver la sesión con la estrategia de reintentos"
      ],
      "metadata": {
        "id": "IzqV54uMGJCE"
      },
      "execution_count": 51,
      "outputs": []
    },
    {
      "cell_type": "markdown",
      "source": [
        "El siguiente método consume el API utilizando requests, obteniendo los datos de los países que proporciona la web. Este retorna una lista de diccionarios sobre los países con el método .json() utilizado en la línea data = response.json()"
      ],
      "metadata": {
        "id": "j1Nr--Tw-ZmM"
      }
    },
    {
      "cell_type": "code",
      "source": [
        "# Obtiene los datos de cada país\n",
        "def fetch_country_data(country, start_date, end_date, limit, max_retries=1):\n",
        "  all_data = [] # Lista para almacenar los datos obtenidos de todas las páginas\n",
        "\n",
        "  try:\n",
        "\n",
        "    page = 1  # Se inicia en la primera página\n",
        "    has_more_data = True  # Control para el bucle\n",
        "    headers = {\"accept\": \"application/json\", \"X-API-Key\": API_KEY} # Encabezados de la solicitud, incluyendo la API Key\n",
        "\n",
        "    # Usar el nuevo método para crear la sesión con reintentos\n",
        "    http = create_retry_session(max_retries)\n",
        "\n",
        "    # Bucle para hacer solicitudes mientras haya más datos disponibles\n",
        "    while has_more_data:\n",
        "      # Crear la URL con los parámetros del país, fechas, página y límite\n",
        "      url = build_url(country, start_date, end_date, page, limit)\n",
        "\n",
        "      response = http.get(url, headers=headers) # Realiza la solicitud HTTP al API\n",
        "      response.raise_for_status() # Lanza un error si la respuesta no es exitosa\n",
        "\n",
        "      data = response.json().get('results', [])\n",
        "      all_data.extend(data)  # Añade los datos de la página actual a la lista general\n",
        "\n",
        "      if len(data) < limit:\n",
        "        print(f\"{country} No más datos\")\n",
        "        has_more_data = False # Si no hay más datos, se finaliza el bucle\n",
        "      else:\n",
        "        page += 1  # Si hay más datos, avanzar a la siguiente página\n",
        "\n",
        "  except requests.RequestException as e:\n",
        "    print(f\"{country} No más datos\")\n",
        "\n",
        "  return all_data"
      ],
      "metadata": {
        "id": "KNHEv-b6Ob77"
      },
      "execution_count": 52,
      "outputs": []
    },
    {
      "cell_type": "markdown",
      "source": [
        "La siguiente función obtiene datos de varios países en un rango de fechas específico y con un límite de resultados por país. Recorre una lista de países, llama a la función fetch_country_data para cada uno, y si se obtienen datos, los almacena en una lista que finalmente retorna."
      ],
      "metadata": {
        "id": "qXJmLj16C0Hc"
      }
    },
    {
      "cell_type": "code",
      "source": [
        "# Función para obtener los datos de varios países\n",
        "def get_countries_data(countries, start_date, end_date, limit):\n",
        "\n",
        "  all_data = [] # Lista para almacenar todos los datos obtenidos\n",
        "\n",
        "  # Ciclo sobre la lista de países\n",
        "  for country in countries:\n",
        "\n",
        "    print(f\"Obteniendo datos para {country}...\")\n",
        "    # Llamada a una función que obtiene los datos del país en un periodo específico\n",
        "    data = fetch_country_data(country, start_date, end_date, limit)\n",
        "\n",
        "    if any(data):\n",
        "      all_data.extend(data) # si existen datos se añaden los resultados a la lista general\n",
        "\n",
        "  return all_data"
      ],
      "metadata": {
        "id": "xdgQx0Ozd1EC"
      },
      "execution_count": 53,
      "outputs": []
    },
    {
      "cell_type": "markdown",
      "source": [
        "Parámetros para definir los datos que se quieren obtener del api de open qa"
      ],
      "metadata": {
        "id": "r2W6pU7mEYV9"
      }
    },
    {
      "cell_type": "code",
      "source": [
        "# Parámetros para el enpoint\n",
        "countries = ['CR', 'CL', 'EC', 'PE', 'AR', 'CO']  # Costa Rica, Chile, Ecuador, Peru, Argentina, Colombia\n",
        "start_date = '2014-01-01T00:00:00Z'\n",
        "end_date = datetime.utcnow().isoformat() + \"Z\"\n",
        "\n",
        "data = get_countries_data(countries, start_date, end_date, 15000)"
      ],
      "metadata": {
        "colab": {
          "base_uri": "https://localhost:8080/"
        },
        "id": "KAD28hF6ZSA6",
        "outputId": "e7416ce5-e3ce-4078-aa46-3a1a34b74cb9"
      },
      "execution_count": 58,
      "outputs": [
        {
          "output_type": "stream",
          "name": "stdout",
          "text": [
            "Obteniendo datos para CR...\n",
            "CR No más datos\n",
            "Obteniendo datos para CL...\n",
            "CL No más datos\n",
            "Obteniendo datos para EC...\n",
            "EC No más datos\n",
            "Obteniendo datos para PE...\n",
            "PE No más datos\n",
            "Obteniendo datos para AR...\n",
            "AR No más datos\n",
            "Obteniendo datos para CO...\n",
            "CO No más datos\n"
          ]
        }
      ]
    },
    {
      "cell_type": "code",
      "source": [
        "#Info solo para visualizar, se borrará\n",
        "import pandas as pd\n",
        "from pandas import json_normalize\n",
        "\n",
        "# Normalizar los datos\n",
        "df_results = json_normalize(data)\n",
        "\n",
        "# Si hay parámetros anidados dentro de los resultados, normalizarlos también\n",
        "if 'parameters' in df_results.columns:\n",
        "  df_parameters = json_normalize(df_results['parameters'].explode())\n",
        "  df_results = df_results.drop(columns=['parameters']).join(df_parameters, rsuffix='_param')\n",
        "\n",
        "# Mostrar el DataFrame\n",
        "df_results\n",
        "\n",
        "# Definir el nombre del archivo CSV\n",
        "archivo_csv = 'datos_normalizados.csv'\n",
        "\n",
        "# Convertir el DataFrame a un archivo CSV\n",
        "df_results.to_csv(archivo_csv, index=False)\n",
        "\n",
        "print(f'DataFrame guardado en {archivo_csv}')\n",
        "\n",
        "# Mostrar el DataFrame\n",
        "print(df_results)"
      ],
      "metadata": {
        "colab": {
          "base_uri": "https://localhost:8080/"
        },
        "id": "5Jd-OVKmCZLl",
        "outputId": "1e14b851-c177-427f-c24c-847fe094166c"
      },
      "execution_count": 59,
      "outputs": [
        {
          "output_type": "stream",
          "name": "stdout",
          "text": [
            "DataFrame guardado en datos_normalizados.csv\n",
            "        locationId                                         location parameter  \\\n",
            "0             7077                     US Diplomatic Post: San Jose      pm25   \n",
            "1             7077                     US Diplomatic Post: San Jose      pm25   \n",
            "2             7077                     US Diplomatic Post: San Jose      pm25   \n",
            "3             7077                     US Diplomatic Post: San Jose      pm25   \n",
            "4             7077                     US Diplomatic Post: San Jose      pm25   \n",
            "...            ...                                              ...       ...   \n",
            "486338        7063  MED-ARAN - Medellín, Aranjuez - I.E Ciro Mendia      pm25   \n",
            "486339        7063  MED-ARAN - Medellín, Aranjuez - I.E Ciro Mendia      pm25   \n",
            "486340        7063  MED-ARAN - Medellín, Aranjuez - I.E Ciro Mendia      pm25   \n",
            "486341        7063  MED-ARAN - Medellín, Aranjuez - I.E Ciro Mendia      pm25   \n",
            "486342        7063  MED-ARAN - Medellín, Aranjuez - I.E Ciro Mendia      pm25   \n",
            "\n",
            "            value   unit country  city  isMobile isAnalysis  \\\n",
            "0      -999.00000  µg/m³      CR  None     False       None   \n",
            "1      -999.00000  µg/m³      CR  None     False       None   \n",
            "2      -999.00000  µg/m³      CR  None     False       None   \n",
            "3      -999.00000  µg/m³      CR  None     False       None   \n",
            "4      -999.00000  µg/m³      CR  None     False       None   \n",
            "...           ...    ...     ...   ...       ...        ...   \n",
            "486338    3.68312  µg/m³      CO  None     False       None   \n",
            "486339    3.71706  µg/m³      CO  None     False       None   \n",
            "486340    2.48823  µg/m³      CO  None     False       None   \n",
            "486341    6.19599  µg/m³      CO  None     False       None   \n",
            "486342    0.00000  µg/m³      CO  None     False       None   \n",
            "\n",
            "                           entity       sensorType                   date.utc  \\\n",
            "0       Governmental Organization  reference grade  2024-09-16T01:00:00+00:00   \n",
            "1       Governmental Organization  reference grade  2024-09-16T00:00:00+00:00   \n",
            "2       Governmental Organization  reference grade  2024-09-15T23:00:00+00:00   \n",
            "3       Governmental Organization  reference grade  2024-09-15T22:00:00+00:00   \n",
            "4       Governmental Organization  reference grade  2024-09-15T21:00:00+00:00   \n",
            "...                           ...              ...                        ...   \n",
            "486338  Governmental Organization  reference grade  2021-04-13T23:00:00+00:00   \n",
            "486339  Governmental Organization  reference grade  2021-04-13T22:00:00+00:00   \n",
            "486340  Governmental Organization  reference grade  2021-04-13T21:00:00+00:00   \n",
            "486341  Governmental Organization  reference grade  2021-04-13T20:00:00+00:00   \n",
            "486342  Governmental Organization  reference grade  2021-04-13T19:00:00+00:00   \n",
            "\n",
            "                       date.local  coordinates.latitude  coordinates.longitude  \n",
            "0       2024-09-15T19:00:00-06:00              9.949488             -84.142876  \n",
            "1       2024-09-15T18:00:00-06:00              9.949488             -84.142876  \n",
            "2       2024-09-15T17:00:00-06:00              9.949488             -84.142876  \n",
            "3       2024-09-15T16:00:00-06:00              9.949488             -84.142876  \n",
            "4       2024-09-15T15:00:00-06:00              9.949488             -84.142876  \n",
            "...                           ...                   ...                    ...  \n",
            "486338  2021-04-13T18:00:00-05:00              6.290481             -75.555519  \n",
            "486339  2021-04-13T17:00:00-05:00              6.290481             -75.555519  \n",
            "486340  2021-04-13T16:00:00-05:00              6.290481             -75.555519  \n",
            "486341  2021-04-13T15:00:00-05:00              6.290481             -75.555519  \n",
            "486342  2021-04-13T14:00:00-05:00              6.290481             -75.555519  \n",
            "\n",
            "[486343 rows x 15 columns]\n"
          ]
        }
      ]
    },
    {
      "cell_type": "markdown",
      "source": [
        "## Limpieza de datos"
      ],
      "metadata": {
        "id": "wdbGPjNowxwK"
      }
    },
    {
      "cell_type": "markdown",
      "source": [
        "## Transformación y Visualización de datos"
      ],
      "metadata": {
        "id": "xSkKWremwzTq"
      }
    }
  ]
}